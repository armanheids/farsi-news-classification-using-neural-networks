{
  "nbformat": 4,
  "nbformat_minor": 0,
  "metadata": {
    "colab": {
      "provenance": [],
      "gpuType": "T4",
      "toc_visible": true
    },
    "kernelspec": {
      "name": "python3",
      "display_name": "Python 3"
    },
    "language_info": {
      "name": "python"
    },
    "accelerator": "GPU"
  },
  "cells": [
    {
      "cell_type": "markdown",
      "source": [
        "## Install HAZM Library"
      ],
      "metadata": {
        "id": "Z4-eHh11Om1t"
      }
    },
    {
      "cell_type": "code",
      "source": [
        "!pip install hazm"
      ],
      "metadata": {
        "colab": {
          "base_uri": "https://localhost:8080/",
          "height": 967
        },
        "id": "oIrqH03JWWsP",
        "outputId": "17c7400c-e14b-4eac-8481-df5cb42d9c21"
      },
      "execution_count": null,
      "outputs": [
        {
          "output_type": "stream",
          "name": "stdout",
          "text": [
            "Collecting hazm\n",
            "  Downloading hazm-0.9.4-py3-none-any.whl (371 kB)\n",
            "\u001b[2K     \u001b[90m━━━━━━━━━━━━━━━━━━━━━━━━━━━━━━━━━━━━━━━━\u001b[0m \u001b[32m371.7/371.7 kB\u001b[0m \u001b[31m5.8 MB/s\u001b[0m eta \u001b[36m0:00:00\u001b[0m\n",
            "\u001b[?25hCollecting fasttext-wheel<0.10.0,>=0.9.2 (from hazm)\n",
            "  Downloading fasttext_wheel-0.9.2-cp310-cp310-manylinux_2_17_x86_64.manylinux2014_x86_64.whl (4.4 MB)\n",
            "\u001b[2K     \u001b[90m━━━━━━━━━━━━━━━━━━━━━━━━━━━━━━━━━━━━━━━━\u001b[0m \u001b[32m4.4/4.4 MB\u001b[0m \u001b[31m52.3 MB/s\u001b[0m eta \u001b[36m0:00:00\u001b[0m\n",
            "\u001b[?25hCollecting flashtext<3.0,>=2.7 (from hazm)\n",
            "  Downloading flashtext-2.7.tar.gz (14 kB)\n",
            "  Preparing metadata (setup.py) ... \u001b[?25l\u001b[?25hdone\n",
            "Requirement already satisfied: gensim<5.0.0,>=4.3.1 in /usr/local/lib/python3.10/dist-packages (from hazm) (4.3.2)\n",
            "Requirement already satisfied: nltk<4.0.0,>=3.8.1 in /usr/local/lib/python3.10/dist-packages (from hazm) (3.8.1)\n",
            "Collecting numpy==1.24.3 (from hazm)\n",
            "  Downloading numpy-1.24.3-cp310-cp310-manylinux_2_17_x86_64.manylinux2014_x86_64.whl (17.3 MB)\n",
            "\u001b[2K     \u001b[90m━━━━━━━━━━━━━━━━━━━━━━━━━━━━━━━━━━━━━━━━\u001b[0m \u001b[32m17.3/17.3 MB\u001b[0m \u001b[31m27.0 MB/s\u001b[0m eta \u001b[36m0:00:00\u001b[0m\n",
            "\u001b[?25hCollecting python-crfsuite<0.10.0,>=0.9.9 (from hazm)\n",
            "  Downloading python_crfsuite-0.9.10-cp310-cp310-manylinux_2_17_x86_64.manylinux2014_x86_64.whl (1.1 MB)\n",
            "\u001b[2K     \u001b[90m━━━━━━━━━━━━━━━━━━━━━━━━━━━━━━━━━━━━━━━━\u001b[0m \u001b[32m1.1/1.1 MB\u001b[0m \u001b[31m55.0 MB/s\u001b[0m eta \u001b[36m0:00:00\u001b[0m\n",
            "\u001b[?25hRequirement already satisfied: scikit-learn<2.0.0,>=1.2.2 in /usr/local/lib/python3.10/dist-packages (from hazm) (1.2.2)\n",
            "Collecting pybind11>=2.2 (from fasttext-wheel<0.10.0,>=0.9.2->hazm)\n",
            "  Downloading pybind11-2.11.1-py3-none-any.whl (227 kB)\n",
            "\u001b[2K     \u001b[90m━━━━━━━━━━━━━━━━━━━━━━━━━━━━━━━━━━━━━━━━\u001b[0m \u001b[32m227.7/227.7 kB\u001b[0m \u001b[31m17.4 MB/s\u001b[0m eta \u001b[36m0:00:00\u001b[0m\n",
            "\u001b[?25hRequirement already satisfied: setuptools>=0.7.0 in /usr/local/lib/python3.10/dist-packages (from fasttext-wheel<0.10.0,>=0.9.2->hazm) (67.7.2)\n",
            "Requirement already satisfied: scipy>=1.7.0 in /usr/local/lib/python3.10/dist-packages (from gensim<5.0.0,>=4.3.1->hazm) (1.11.4)\n",
            "Requirement already satisfied: smart-open>=1.8.1 in /usr/local/lib/python3.10/dist-packages (from gensim<5.0.0,>=4.3.1->hazm) (6.4.0)\n",
            "Requirement already satisfied: click in /usr/local/lib/python3.10/dist-packages (from nltk<4.0.0,>=3.8.1->hazm) (8.1.7)\n",
            "Requirement already satisfied: joblib in /usr/local/lib/python3.10/dist-packages (from nltk<4.0.0,>=3.8.1->hazm) (1.3.2)\n",
            "Requirement already satisfied: regex>=2021.8.3 in /usr/local/lib/python3.10/dist-packages (from nltk<4.0.0,>=3.8.1->hazm) (2023.6.3)\n",
            "Requirement already satisfied: tqdm in /usr/local/lib/python3.10/dist-packages (from nltk<4.0.0,>=3.8.1->hazm) (4.66.1)\n",
            "Requirement already satisfied: threadpoolctl>=2.0.0 in /usr/local/lib/python3.10/dist-packages (from scikit-learn<2.0.0,>=1.2.2->hazm) (3.2.0)\n",
            "Building wheels for collected packages: flashtext\n",
            "  Building wheel for flashtext (setup.py) ... \u001b[?25l\u001b[?25hdone\n",
            "  Created wheel for flashtext: filename=flashtext-2.7-py2.py3-none-any.whl size=9296 sha256=597a19d9e5529fcc1e8fecf2e4a25f1f1d5e692226d40a5568558a74bbbe48c4\n",
            "  Stored in directory: /root/.cache/pip/wheels/bc/be/39/c37ad168eb2ff644c9685f52554440372129450f0b8ed203dd\n",
            "Successfully built flashtext\n",
            "Installing collected packages: python-crfsuite, flashtext, pybind11, numpy, fasttext-wheel, hazm\n",
            "  Attempting uninstall: numpy\n",
            "    Found existing installation: numpy 1.23.5\n",
            "    Uninstalling numpy-1.23.5:\n",
            "      Successfully uninstalled numpy-1.23.5\n",
            "\u001b[31mERROR: pip's dependency resolver does not currently take into account all the packages that are installed. This behaviour is the source of the following dependency conflicts.\n",
            "lida 0.0.10 requires fastapi, which is not installed.\n",
            "lida 0.0.10 requires kaleido, which is not installed.\n",
            "lida 0.0.10 requires python-multipart, which is not installed.\n",
            "lida 0.0.10 requires uvicorn, which is not installed.\u001b[0m\u001b[31m\n",
            "\u001b[0mSuccessfully installed fasttext-wheel-0.9.2 flashtext-2.7 hazm-0.9.4 numpy-1.24.3 pybind11-2.11.1 python-crfsuite-0.9.10\n"
          ]
        },
        {
          "output_type": "display_data",
          "data": {
            "application/vnd.colab-display-data+json": {
              "pip_warning": {
                "packages": [
                  "numpy"
                ]
              }
            }
          },
          "metadata": {}
        }
      ]
    },
    {
      "cell_type": "markdown",
      "source": [
        "## Import Essential Library"
      ],
      "metadata": {
        "id": "XctjFehIOrn1"
      }
    },
    {
      "cell_type": "code",
      "execution_count": null,
      "metadata": {
        "id": "g1J_tHtY9Aqg"
      },
      "outputs": [],
      "source": [
        "import numpy as np\n",
        "import pandas as pd"
      ]
    },
    {
      "cell_type": "markdown",
      "source": [
        "## Mount Google Drive"
      ],
      "metadata": {
        "id": "5mUWf90IOu52"
      }
    },
    {
      "cell_type": "code",
      "source": [
        "from google.colab import drive\n",
        "drive.mount('/content/drive')"
      ],
      "metadata": {
        "colab": {
          "base_uri": "https://localhost:8080/"
        },
        "id": "u5pgdVSBOCMH",
        "outputId": "4da981a2-5bcd-43f8-fc25-4bcf0009b964"
      },
      "execution_count": null,
      "outputs": [
        {
          "output_type": "stream",
          "name": "stdout",
          "text": [
            "Mounted at /content/drive\n"
          ]
        }
      ]
    },
    {
      "cell_type": "markdown",
      "source": [
        "## Unzip Dataset"
      ],
      "metadata": {
        "id": "74rCOv3ZOxki"
      }
    },
    {
      "cell_type": "code",
      "source": [
        "!unzip -xq '/content/drive/MyDrive/Colab Notebooks/Hekaton/News_Classification/data.zip'"
      ],
      "metadata": {
        "id": "2s1EQ9ipOR6U"
      },
      "execution_count": null,
      "outputs": []
    },
    {
      "cell_type": "markdown",
      "source": [
        "## Read Train set"
      ],
      "metadata": {
        "id": "-LEPmoM5Oz39"
      }
    },
    {
      "cell_type": "code",
      "source": [
        "train = pd.read_csv('train_data.csv')\n",
        "train.head()"
      ],
      "metadata": {
        "colab": {
          "base_uri": "https://localhost:8080/",
          "height": 206
        },
        "id": "tbqt2Z2hOcVL",
        "outputId": "9440592f-82b9-47ba-ccf4-840f9edd2f6f"
      },
      "execution_count": null,
      "outputs": [
        {
          "output_type": "execute_result",
          "data": {
            "text/plain": [
              "                                               title  \\\n",
              "0  روایتی از تحصیل زیرسقف‌های لرزان و سرمای سوزان...   \n",
              "1  انقلابی سرشناس بحرین در گفت‌وگو با تسنیم: مردم...   \n",
              "2  ‌زندگی مردم در شهر قم ‌جریان دارد / پیشگیری در...   \n",
              "3  واکنش &quot;پروفسور کرمی&quot; به دروغ‌پراکنی ...   \n",
              "4  مردم نگران تأمین کالاهای موردنیاز خود نباشند/ ...   \n",
              "\n",
              "                                         description     tags  \n",
              "0  گروه استان‌ها- دانش‌آموزان مدرسه روستای کَهنان...  استانها  \n",
              "1  گروه استان‌ها ــ انقلابی سرشناس بحرین با بیان ...  استانها  \n",
              "2  گروه استان‌ها ــ با اعلام شیوع ویروس کرونا در ...  استانها  \n",
              "3  یک متخصص بیوتکنولوژی پزشکی با بیان اینکه مرگ‌و...  اجتماعی  \n",
              "4  رئیس اتحادیه فروشگاه‌های زنجیره‌ای با اشاره به...  اقتصادی  "
            ],
            "text/html": [
              "\n",
              "  <div id=\"df-82b04b69-7d1c-4125-871a-b07df2ff79c3\" class=\"colab-df-container\">\n",
              "    <div>\n",
              "<style scoped>\n",
              "    .dataframe tbody tr th:only-of-type {\n",
              "        vertical-align: middle;\n",
              "    }\n",
              "\n",
              "    .dataframe tbody tr th {\n",
              "        vertical-align: top;\n",
              "    }\n",
              "\n",
              "    .dataframe thead th {\n",
              "        text-align: right;\n",
              "    }\n",
              "</style>\n",
              "<table border=\"1\" class=\"dataframe\">\n",
              "  <thead>\n",
              "    <tr style=\"text-align: right;\">\n",
              "      <th></th>\n",
              "      <th>title</th>\n",
              "      <th>description</th>\n",
              "      <th>tags</th>\n",
              "    </tr>\n",
              "  </thead>\n",
              "  <tbody>\n",
              "    <tr>\n",
              "      <th>0</th>\n",
              "      <td>روایتی از تحصیل زیرسقف‌های لرزان و سرمای سوزان...</td>\n",
              "      <td>گروه استان‌ها- دانش‌آموزان مدرسه روستای کَهنان...</td>\n",
              "      <td>استانها</td>\n",
              "    </tr>\n",
              "    <tr>\n",
              "      <th>1</th>\n",
              "      <td>انقلابی سرشناس بحرین در گفت‌وگو با تسنیم: مردم...</td>\n",
              "      <td>گروه استان‌ها ــ انقلابی سرشناس بحرین با بیان ...</td>\n",
              "      <td>استانها</td>\n",
              "    </tr>\n",
              "    <tr>\n",
              "      <th>2</th>\n",
              "      <td>‌زندگی مردم در شهر قم ‌جریان دارد / پیشگیری در...</td>\n",
              "      <td>گروه استان‌ها ــ با اعلام شیوع ویروس کرونا در ...</td>\n",
              "      <td>استانها</td>\n",
              "    </tr>\n",
              "    <tr>\n",
              "      <th>3</th>\n",
              "      <td>واکنش &amp;quot;پروفسور کرمی&amp;quot; به دروغ‌پراکنی ...</td>\n",
              "      <td>یک متخصص بیوتکنولوژی پزشکی با بیان اینکه مرگ‌و...</td>\n",
              "      <td>اجتماعی</td>\n",
              "    </tr>\n",
              "    <tr>\n",
              "      <th>4</th>\n",
              "      <td>مردم نگران تأمین کالاهای موردنیاز خود نباشند/ ...</td>\n",
              "      <td>رئیس اتحادیه فروشگاه‌های زنجیره‌ای با اشاره به...</td>\n",
              "      <td>اقتصادی</td>\n",
              "    </tr>\n",
              "  </tbody>\n",
              "</table>\n",
              "</div>\n",
              "    <div class=\"colab-df-buttons\">\n",
              "\n",
              "  <div class=\"colab-df-container\">\n",
              "    <button class=\"colab-df-convert\" onclick=\"convertToInteractive('df-82b04b69-7d1c-4125-871a-b07df2ff79c3')\"\n",
              "            title=\"Convert this dataframe to an interactive table.\"\n",
              "            style=\"display:none;\">\n",
              "\n",
              "  <svg xmlns=\"http://www.w3.org/2000/svg\" height=\"24px\" viewBox=\"0 -960 960 960\">\n",
              "    <path d=\"M120-120v-720h720v720H120Zm60-500h600v-160H180v160Zm220 220h160v-160H400v160Zm0 220h160v-160H400v160ZM180-400h160v-160H180v160Zm440 0h160v-160H620v160ZM180-180h160v-160H180v160Zm440 0h160v-160H620v160Z\"/>\n",
              "  </svg>\n",
              "    </button>\n",
              "\n",
              "  <style>\n",
              "    .colab-df-container {\n",
              "      display:flex;\n",
              "      gap: 12px;\n",
              "    }\n",
              "\n",
              "    .colab-df-convert {\n",
              "      background-color: #E8F0FE;\n",
              "      border: none;\n",
              "      border-radius: 50%;\n",
              "      cursor: pointer;\n",
              "      display: none;\n",
              "      fill: #1967D2;\n",
              "      height: 32px;\n",
              "      padding: 0 0 0 0;\n",
              "      width: 32px;\n",
              "    }\n",
              "\n",
              "    .colab-df-convert:hover {\n",
              "      background-color: #E2EBFA;\n",
              "      box-shadow: 0px 1px 2px rgba(60, 64, 67, 0.3), 0px 1px 3px 1px rgba(60, 64, 67, 0.15);\n",
              "      fill: #174EA6;\n",
              "    }\n",
              "\n",
              "    .colab-df-buttons div {\n",
              "      margin-bottom: 4px;\n",
              "    }\n",
              "\n",
              "    [theme=dark] .colab-df-convert {\n",
              "      background-color: #3B4455;\n",
              "      fill: #D2E3FC;\n",
              "    }\n",
              "\n",
              "    [theme=dark] .colab-df-convert:hover {\n",
              "      background-color: #434B5C;\n",
              "      box-shadow: 0px 1px 3px 1px rgba(0, 0, 0, 0.15);\n",
              "      filter: drop-shadow(0px 1px 2px rgba(0, 0, 0, 0.3));\n",
              "      fill: #FFFFFF;\n",
              "    }\n",
              "  </style>\n",
              "\n",
              "    <script>\n",
              "      const buttonEl =\n",
              "        document.querySelector('#df-82b04b69-7d1c-4125-871a-b07df2ff79c3 button.colab-df-convert');\n",
              "      buttonEl.style.display =\n",
              "        google.colab.kernel.accessAllowed ? 'block' : 'none';\n",
              "\n",
              "      async function convertToInteractive(key) {\n",
              "        const element = document.querySelector('#df-82b04b69-7d1c-4125-871a-b07df2ff79c3');\n",
              "        const dataTable =\n",
              "          await google.colab.kernel.invokeFunction('convertToInteractive',\n",
              "                                                    [key], {});\n",
              "        if (!dataTable) return;\n",
              "\n",
              "        const docLinkHtml = 'Like what you see? Visit the ' +\n",
              "          '<a target=\"_blank\" href=https://colab.research.google.com/notebooks/data_table.ipynb>data table notebook</a>'\n",
              "          + ' to learn more about interactive tables.';\n",
              "        element.innerHTML = '';\n",
              "        dataTable['output_type'] = 'display_data';\n",
              "        await google.colab.output.renderOutput(dataTable, element);\n",
              "        const docLink = document.createElement('div');\n",
              "        docLink.innerHTML = docLinkHtml;\n",
              "        element.appendChild(docLink);\n",
              "      }\n",
              "    </script>\n",
              "  </div>\n",
              "\n",
              "\n",
              "<div id=\"df-e11501ce-f16b-4231-8d19-6fa47465ad75\">\n",
              "  <button class=\"colab-df-quickchart\" onclick=\"quickchart('df-e11501ce-f16b-4231-8d19-6fa47465ad75')\"\n",
              "            title=\"Suggest charts\"\n",
              "            style=\"display:none;\">\n",
              "\n",
              "<svg xmlns=\"http://www.w3.org/2000/svg\" height=\"24px\"viewBox=\"0 0 24 24\"\n",
              "     width=\"24px\">\n",
              "    <g>\n",
              "        <path d=\"M19 3H5c-1.1 0-2 .9-2 2v14c0 1.1.9 2 2 2h14c1.1 0 2-.9 2-2V5c0-1.1-.9-2-2-2zM9 17H7v-7h2v7zm4 0h-2V7h2v10zm4 0h-2v-4h2v4z\"/>\n",
              "    </g>\n",
              "</svg>\n",
              "  </button>\n",
              "\n",
              "<style>\n",
              "  .colab-df-quickchart {\n",
              "      --bg-color: #E8F0FE;\n",
              "      --fill-color: #1967D2;\n",
              "      --hover-bg-color: #E2EBFA;\n",
              "      --hover-fill-color: #174EA6;\n",
              "      --disabled-fill-color: #AAA;\n",
              "      --disabled-bg-color: #DDD;\n",
              "  }\n",
              "\n",
              "  [theme=dark] .colab-df-quickchart {\n",
              "      --bg-color: #3B4455;\n",
              "      --fill-color: #D2E3FC;\n",
              "      --hover-bg-color: #434B5C;\n",
              "      --hover-fill-color: #FFFFFF;\n",
              "      --disabled-bg-color: #3B4455;\n",
              "      --disabled-fill-color: #666;\n",
              "  }\n",
              "\n",
              "  .colab-df-quickchart {\n",
              "    background-color: var(--bg-color);\n",
              "    border: none;\n",
              "    border-radius: 50%;\n",
              "    cursor: pointer;\n",
              "    display: none;\n",
              "    fill: var(--fill-color);\n",
              "    height: 32px;\n",
              "    padding: 0;\n",
              "    width: 32px;\n",
              "  }\n",
              "\n",
              "  .colab-df-quickchart:hover {\n",
              "    background-color: var(--hover-bg-color);\n",
              "    box-shadow: 0 1px 2px rgba(60, 64, 67, 0.3), 0 1px 3px 1px rgba(60, 64, 67, 0.15);\n",
              "    fill: var(--button-hover-fill-color);\n",
              "  }\n",
              "\n",
              "  .colab-df-quickchart-complete:disabled,\n",
              "  .colab-df-quickchart-complete:disabled:hover {\n",
              "    background-color: var(--disabled-bg-color);\n",
              "    fill: var(--disabled-fill-color);\n",
              "    box-shadow: none;\n",
              "  }\n",
              "\n",
              "  .colab-df-spinner {\n",
              "    border: 2px solid var(--fill-color);\n",
              "    border-color: transparent;\n",
              "    border-bottom-color: var(--fill-color);\n",
              "    animation:\n",
              "      spin 1s steps(1) infinite;\n",
              "  }\n",
              "\n",
              "  @keyframes spin {\n",
              "    0% {\n",
              "      border-color: transparent;\n",
              "      border-bottom-color: var(--fill-color);\n",
              "      border-left-color: var(--fill-color);\n",
              "    }\n",
              "    20% {\n",
              "      border-color: transparent;\n",
              "      border-left-color: var(--fill-color);\n",
              "      border-top-color: var(--fill-color);\n",
              "    }\n",
              "    30% {\n",
              "      border-color: transparent;\n",
              "      border-left-color: var(--fill-color);\n",
              "      border-top-color: var(--fill-color);\n",
              "      border-right-color: var(--fill-color);\n",
              "    }\n",
              "    40% {\n",
              "      border-color: transparent;\n",
              "      border-right-color: var(--fill-color);\n",
              "      border-top-color: var(--fill-color);\n",
              "    }\n",
              "    60% {\n",
              "      border-color: transparent;\n",
              "      border-right-color: var(--fill-color);\n",
              "    }\n",
              "    80% {\n",
              "      border-color: transparent;\n",
              "      border-right-color: var(--fill-color);\n",
              "      border-bottom-color: var(--fill-color);\n",
              "    }\n",
              "    90% {\n",
              "      border-color: transparent;\n",
              "      border-bottom-color: var(--fill-color);\n",
              "    }\n",
              "  }\n",
              "</style>\n",
              "\n",
              "  <script>\n",
              "    async function quickchart(key) {\n",
              "      const quickchartButtonEl =\n",
              "        document.querySelector('#' + key + ' button');\n",
              "      quickchartButtonEl.disabled = true;  // To prevent multiple clicks.\n",
              "      quickchartButtonEl.classList.add('colab-df-spinner');\n",
              "      try {\n",
              "        const charts = await google.colab.kernel.invokeFunction(\n",
              "            'suggestCharts', [key], {});\n",
              "      } catch (error) {\n",
              "        console.error('Error during call to suggestCharts:', error);\n",
              "      }\n",
              "      quickchartButtonEl.classList.remove('colab-df-spinner');\n",
              "      quickchartButtonEl.classList.add('colab-df-quickchart-complete');\n",
              "    }\n",
              "    (() => {\n",
              "      let quickchartButtonEl =\n",
              "        document.querySelector('#df-e11501ce-f16b-4231-8d19-6fa47465ad75 button');\n",
              "      quickchartButtonEl.style.display =\n",
              "        google.colab.kernel.accessAllowed ? 'block' : 'none';\n",
              "    })();\n",
              "  </script>\n",
              "</div>\n",
              "    </div>\n",
              "  </div>\n"
            ]
          },
          "metadata": {},
          "execution_count": 4
        }
      ]
    },
    {
      "cell_type": "code",
      "source": [
        "train.shape"
      ],
      "metadata": {
        "colab": {
          "base_uri": "https://localhost:8080/"
        },
        "id": "4mo_ZAgvV4Ma",
        "outputId": "79c209d4-ef97-408a-95cd-7dd595787662"
      },
      "execution_count": null,
      "outputs": [
        {
          "output_type": "execute_result",
          "data": {
            "text/plain": [
              "(12457, 3)"
            ]
          },
          "metadata": {},
          "execution_count": 5
        }
      ]
    },
    {
      "cell_type": "code",
      "source": [
        "train.info()"
      ],
      "metadata": {
        "colab": {
          "base_uri": "https://localhost:8080/"
        },
        "id": "THaXGcZrVnzh",
        "outputId": "6fe7aad4-d2a1-48d7-f7d3-9f99adf67b3c"
      },
      "execution_count": null,
      "outputs": [
        {
          "output_type": "stream",
          "name": "stdout",
          "text": [
            "<class 'pandas.core.frame.DataFrame'>\n",
            "RangeIndex: 12457 entries, 0 to 12456\n",
            "Data columns (total 3 columns):\n",
            " #   Column       Non-Null Count  Dtype \n",
            "---  ------       --------------  ----- \n",
            " 0   title        12457 non-null  object\n",
            " 1   description  12457 non-null  object\n",
            " 2   tags         12455 non-null  object\n",
            "dtypes: object(3)\n",
            "memory usage: 292.1+ KB\n"
          ]
        }
      ]
    },
    {
      "cell_type": "code",
      "source": [
        "train['tags'].astype('str')"
      ],
      "metadata": {
        "colab": {
          "base_uri": "https://localhost:8080/"
        },
        "id": "g5KLG2geVtTC",
        "outputId": "480029df-9f88-4ccc-9fd4-5a88470ad101"
      },
      "execution_count": null,
      "outputs": [
        {
          "output_type": "execute_result",
          "data": {
            "text/plain": [
              "0        استانها\n",
              "1        استانها\n",
              "2        استانها\n",
              "3        اجتماعی\n",
              "4        اقتصادی\n",
              "          ...   \n",
              "12452      سیاسی\n",
              "12453      سیاسی\n",
              "12454    بایگانی\n",
              "12455    بایگانی\n",
              "12456    بایگانی\n",
              "Name: tags, Length: 12457, dtype: object"
            ]
          },
          "metadata": {},
          "execution_count": 7
        }
      ]
    },
    {
      "cell_type": "code",
      "source": [
        "train['tags'].unique()"
      ],
      "metadata": {
        "colab": {
          "base_uri": "https://localhost:8080/"
        },
        "id": "O1WshfVpOlva",
        "outputId": "8c605eef-f92c-42a3-9b88-d18f698debaa"
      },
      "execution_count": null,
      "outputs": [
        {
          "output_type": "execute_result",
          "data": {
            "text/plain": [
              "array(['استانها', 'اجتماعی', 'اقتصادی', 'سیاسی', 'فرهنگی', 'بین الملل',\n",
              "       'ورزشی', 'رسانه ها', 'بازار', 'الشرق الأوسط', 'دانش و محیط زیست',\n",
              "       'جهان', 'ایران', 'NRS-Import', 'فرهنگ و هنر', 'آلمان', 'دیدگاه',\n",
              "       'دوره\\u200cهای زبان آلمانی', 'ورزش', 'اقتصاد', 'گوناگون',\n",
              "       'شبکه\\u200cهای اجتماعی', 'دویچه وله', 'Community D',\n",
              "       'آلمانی پیش\\u200cرفته', 'ویدئو > گزارش', 'استان ها > مرکزی',\n",
              "       'استان ها > قم', 'علمی و دانشگاهی > صنفی، فرهنگی',\n",
              "       'اقتصادی > عمران و اشتغال', 'اقتصادی > تولید و تجارت',\n",
              "       'اجتماعی > سلامت', 'اجتماعی > آموزش و پرورش', 'سیاسی > دولت',\n",
              "       'فرهنگی و هنری > گردشگری و میراث', 'اقتصادی > اقتصاد کلان',\n",
              "       'ورزشی > فوتبال، فوتسال', 'سیاسی > سیاست خارجی',\n",
              "       'اجتماعی > حوادث، انتظامی', 'سیاسی > مجلس', 'اجتماعی > محیط زیست',\n",
              "       'سیاسی > اندیشه امام و رهبری', 'اجتماعی > خانواده',\n",
              "       'سیاسی > حقوقی و قضایی', 'سیاسی > سیاست داخلی',\n",
              "       'استان ها > لرستان', 'علمی و دانشگاهی > علم و فناوری ایران',\n",
              "       'استان ها > گیلان', 'اجتماعی > جامعه، شهری',\n",
              "       'سیاسی > دفاعی - امنيتی', 'علمی و دانشگاهی > پژوهش',\n",
              "       'گرافیک > اینفوگرافیک', 'استان ها > خوزستان', 'اقتصادی > انرژی',\n",
              "       'فرهنگی و هنری > سینما و تئاتر', 'استان ها > سمنان',\n",
              "       'استان ها > خراسان رضوی', 'سیاسی > انرژی هسته\\u200e\\u200cای',\n",
              "       'علمی و دانشگاهی > علم و فناوری جهان', 'استان ها > البرز',\n",
              "       'استان ها > تهران', 'علمی و دانشگاهی > جهاد دانشگاهی',\n",
              "       'ورزشی > سایر ورزش\\u200cها', 'استان ها > هرمزگان',\n",
              "       'اقتصادی > ارتباطات و فناوری اطلاعات', 'علمی و دانشگاهی > آموزش',\n",
              "       'ورزشی > کشتی، رزمی', 'بین الملل > فرامنطقه ای',\n",
              "       'بین الملل > آسیا،خاورمیانه', 'استان ها > اصفهان',\n",
              "       'استان ها > چهارمحال و بختیاری', 'فرهنگی و هنری > تجسمی و موسیقی',\n",
              "       'فرهنگی و هنری > دین و اندیشه', 'فرهنگی و هنری > ادبیات و کتاب',\n",
              "       'استان ها > بوشهر', 'فرهنگی و هنری > فرهنگ حماسه',\n",
              "       'فرهنگی و هنری > رسانه', 'استان ها > سیستان و بلوچستان',\n",
              "       'ورزشی > توپ و تور', 'استان ها > کهگیلویه و بویراحمد',\n",
              "       'استان ها > کرمانشاه', 'استان ها > مازندران', 'استان ها > ایلام',\n",
              "       'استان ها > زنجان', 'ورزشی > جهان ورزش', 'استان ها > کرمان',\n",
              "       'استان ها > یزد', 'استان ها > اردبیل', 'ورزشی > ورزش بانوان',\n",
              "       'استان ها > خراسان جنوبی', 'بین الملل > فلسطین', 'ایسنا+ > ایسنا+',\n",
              "       'استان ها > فارس', 'استان ها > گلستان', 'عکس > خبری', 'بایگانی',\n",
              "       'ايران', 'اقتصاد ایران', 'خبرخوان', 'دانش و فناوری', nan],\n",
              "      dtype=object)"
            ]
          },
          "metadata": {},
          "execution_count": 8
        }
      ]
    },
    {
      "cell_type": "code",
      "source": [
        "train.isnull().sum()"
      ],
      "metadata": {
        "colab": {
          "base_uri": "https://localhost:8080/"
        },
        "id": "qsEn4wEJQFxc",
        "outputId": "f3f250c6-57ce-4633-8dbc-b9686e83d6e7"
      },
      "execution_count": null,
      "outputs": [
        {
          "output_type": "execute_result",
          "data": {
            "text/plain": [
              "title          0\n",
              "description    0\n",
              "tags           2\n",
              "dtype: int64"
            ]
          },
          "metadata": {},
          "execution_count": 9
        }
      ]
    },
    {
      "cell_type": "code",
      "source": [
        "train[train['tags'].isnull()]"
      ],
      "metadata": {
        "colab": {
          "base_uri": "https://localhost:8080/",
          "height": 112
        },
        "id": "Tc1HxmksQOEd",
        "outputId": "fe1ba504-466a-42ce-c354-4b2d64018308"
      },
      "execution_count": null,
      "outputs": [
        {
          "output_type": "execute_result",
          "data": {
            "text/plain": [
              "                                                   title  \\\n",
              "11659                    مجید آذرپی به زندان اوین بازگشت   \n",
              "12186  مقام آموزش و پرورش: الزام دانش آموزان به پوشش ...   \n",
              "\n",
              "                                             description tags  \n",
              "11659  مجید آذرپی، زندانی سیاسی اصلاح‌طلب و عضو ستاد ...  NaN  \n",
              "12186  مدیرکل انجمن اولیا و مربیان وزارت آموزش و پرور...  NaN  "
            ],
            "text/html": [
              "\n",
              "  <div id=\"df-259768ab-4c1a-4c13-8f94-2a0b91d23adf\" class=\"colab-df-container\">\n",
              "    <div>\n",
              "<style scoped>\n",
              "    .dataframe tbody tr th:only-of-type {\n",
              "        vertical-align: middle;\n",
              "    }\n",
              "\n",
              "    .dataframe tbody tr th {\n",
              "        vertical-align: top;\n",
              "    }\n",
              "\n",
              "    .dataframe thead th {\n",
              "        text-align: right;\n",
              "    }\n",
              "</style>\n",
              "<table border=\"1\" class=\"dataframe\">\n",
              "  <thead>\n",
              "    <tr style=\"text-align: right;\">\n",
              "      <th></th>\n",
              "      <th>title</th>\n",
              "      <th>description</th>\n",
              "      <th>tags</th>\n",
              "    </tr>\n",
              "  </thead>\n",
              "  <tbody>\n",
              "    <tr>\n",
              "      <th>11659</th>\n",
              "      <td>مجید آذرپی به زندان اوین بازگشت</td>\n",
              "      <td>مجید آذرپی، زندانی سیاسی اصلاح‌طلب و عضو ستاد ...</td>\n",
              "      <td>NaN</td>\n",
              "    </tr>\n",
              "    <tr>\n",
              "      <th>12186</th>\n",
              "      <td>مقام آموزش و پرورش: الزام دانش آموزان به پوشش ...</td>\n",
              "      <td>مدیرکل انجمن اولیا و مربیان وزارت آموزش و پرور...</td>\n",
              "      <td>NaN</td>\n",
              "    </tr>\n",
              "  </tbody>\n",
              "</table>\n",
              "</div>\n",
              "    <div class=\"colab-df-buttons\">\n",
              "\n",
              "  <div class=\"colab-df-container\">\n",
              "    <button class=\"colab-df-convert\" onclick=\"convertToInteractive('df-259768ab-4c1a-4c13-8f94-2a0b91d23adf')\"\n",
              "            title=\"Convert this dataframe to an interactive table.\"\n",
              "            style=\"display:none;\">\n",
              "\n",
              "  <svg xmlns=\"http://www.w3.org/2000/svg\" height=\"24px\" viewBox=\"0 -960 960 960\">\n",
              "    <path d=\"M120-120v-720h720v720H120Zm60-500h600v-160H180v160Zm220 220h160v-160H400v160Zm0 220h160v-160H400v160ZM180-400h160v-160H180v160Zm440 0h160v-160H620v160ZM180-180h160v-160H180v160Zm440 0h160v-160H620v160Z\"/>\n",
              "  </svg>\n",
              "    </button>\n",
              "\n",
              "  <style>\n",
              "    .colab-df-container {\n",
              "      display:flex;\n",
              "      gap: 12px;\n",
              "    }\n",
              "\n",
              "    .colab-df-convert {\n",
              "      background-color: #E8F0FE;\n",
              "      border: none;\n",
              "      border-radius: 50%;\n",
              "      cursor: pointer;\n",
              "      display: none;\n",
              "      fill: #1967D2;\n",
              "      height: 32px;\n",
              "      padding: 0 0 0 0;\n",
              "      width: 32px;\n",
              "    }\n",
              "\n",
              "    .colab-df-convert:hover {\n",
              "      background-color: #E2EBFA;\n",
              "      box-shadow: 0px 1px 2px rgba(60, 64, 67, 0.3), 0px 1px 3px 1px rgba(60, 64, 67, 0.15);\n",
              "      fill: #174EA6;\n",
              "    }\n",
              "\n",
              "    .colab-df-buttons div {\n",
              "      margin-bottom: 4px;\n",
              "    }\n",
              "\n",
              "    [theme=dark] .colab-df-convert {\n",
              "      background-color: #3B4455;\n",
              "      fill: #D2E3FC;\n",
              "    }\n",
              "\n",
              "    [theme=dark] .colab-df-convert:hover {\n",
              "      background-color: #434B5C;\n",
              "      box-shadow: 0px 1px 3px 1px rgba(0, 0, 0, 0.15);\n",
              "      filter: drop-shadow(0px 1px 2px rgba(0, 0, 0, 0.3));\n",
              "      fill: #FFFFFF;\n",
              "    }\n",
              "  </style>\n",
              "\n",
              "    <script>\n",
              "      const buttonEl =\n",
              "        document.querySelector('#df-259768ab-4c1a-4c13-8f94-2a0b91d23adf button.colab-df-convert');\n",
              "      buttonEl.style.display =\n",
              "        google.colab.kernel.accessAllowed ? 'block' : 'none';\n",
              "\n",
              "      async function convertToInteractive(key) {\n",
              "        const element = document.querySelector('#df-259768ab-4c1a-4c13-8f94-2a0b91d23adf');\n",
              "        const dataTable =\n",
              "          await google.colab.kernel.invokeFunction('convertToInteractive',\n",
              "                                                    [key], {});\n",
              "        if (!dataTable) return;\n",
              "\n",
              "        const docLinkHtml = 'Like what you see? Visit the ' +\n",
              "          '<a target=\"_blank\" href=https://colab.research.google.com/notebooks/data_table.ipynb>data table notebook</a>'\n",
              "          + ' to learn more about interactive tables.';\n",
              "        element.innerHTML = '';\n",
              "        dataTable['output_type'] = 'display_data';\n",
              "        await google.colab.output.renderOutput(dataTable, element);\n",
              "        const docLink = document.createElement('div');\n",
              "        docLink.innerHTML = docLinkHtml;\n",
              "        element.appendChild(docLink);\n",
              "      }\n",
              "    </script>\n",
              "  </div>\n",
              "\n",
              "\n",
              "<div id=\"df-70d38a92-9834-4553-a836-42c074e5aaa4\">\n",
              "  <button class=\"colab-df-quickchart\" onclick=\"quickchart('df-70d38a92-9834-4553-a836-42c074e5aaa4')\"\n",
              "            title=\"Suggest charts\"\n",
              "            style=\"display:none;\">\n",
              "\n",
              "<svg xmlns=\"http://www.w3.org/2000/svg\" height=\"24px\"viewBox=\"0 0 24 24\"\n",
              "     width=\"24px\">\n",
              "    <g>\n",
              "        <path d=\"M19 3H5c-1.1 0-2 .9-2 2v14c0 1.1.9 2 2 2h14c1.1 0 2-.9 2-2V5c0-1.1-.9-2-2-2zM9 17H7v-7h2v7zm4 0h-2V7h2v10zm4 0h-2v-4h2v4z\"/>\n",
              "    </g>\n",
              "</svg>\n",
              "  </button>\n",
              "\n",
              "<style>\n",
              "  .colab-df-quickchart {\n",
              "      --bg-color: #E8F0FE;\n",
              "      --fill-color: #1967D2;\n",
              "      --hover-bg-color: #E2EBFA;\n",
              "      --hover-fill-color: #174EA6;\n",
              "      --disabled-fill-color: #AAA;\n",
              "      --disabled-bg-color: #DDD;\n",
              "  }\n",
              "\n",
              "  [theme=dark] .colab-df-quickchart {\n",
              "      --bg-color: #3B4455;\n",
              "      --fill-color: #D2E3FC;\n",
              "      --hover-bg-color: #434B5C;\n",
              "      --hover-fill-color: #FFFFFF;\n",
              "      --disabled-bg-color: #3B4455;\n",
              "      --disabled-fill-color: #666;\n",
              "  }\n",
              "\n",
              "  .colab-df-quickchart {\n",
              "    background-color: var(--bg-color);\n",
              "    border: none;\n",
              "    border-radius: 50%;\n",
              "    cursor: pointer;\n",
              "    display: none;\n",
              "    fill: var(--fill-color);\n",
              "    height: 32px;\n",
              "    padding: 0;\n",
              "    width: 32px;\n",
              "  }\n",
              "\n",
              "  .colab-df-quickchart:hover {\n",
              "    background-color: var(--hover-bg-color);\n",
              "    box-shadow: 0 1px 2px rgba(60, 64, 67, 0.3), 0 1px 3px 1px rgba(60, 64, 67, 0.15);\n",
              "    fill: var(--button-hover-fill-color);\n",
              "  }\n",
              "\n",
              "  .colab-df-quickchart-complete:disabled,\n",
              "  .colab-df-quickchart-complete:disabled:hover {\n",
              "    background-color: var(--disabled-bg-color);\n",
              "    fill: var(--disabled-fill-color);\n",
              "    box-shadow: none;\n",
              "  }\n",
              "\n",
              "  .colab-df-spinner {\n",
              "    border: 2px solid var(--fill-color);\n",
              "    border-color: transparent;\n",
              "    border-bottom-color: var(--fill-color);\n",
              "    animation:\n",
              "      spin 1s steps(1) infinite;\n",
              "  }\n",
              "\n",
              "  @keyframes spin {\n",
              "    0% {\n",
              "      border-color: transparent;\n",
              "      border-bottom-color: var(--fill-color);\n",
              "      border-left-color: var(--fill-color);\n",
              "    }\n",
              "    20% {\n",
              "      border-color: transparent;\n",
              "      border-left-color: var(--fill-color);\n",
              "      border-top-color: var(--fill-color);\n",
              "    }\n",
              "    30% {\n",
              "      border-color: transparent;\n",
              "      border-left-color: var(--fill-color);\n",
              "      border-top-color: var(--fill-color);\n",
              "      border-right-color: var(--fill-color);\n",
              "    }\n",
              "    40% {\n",
              "      border-color: transparent;\n",
              "      border-right-color: var(--fill-color);\n",
              "      border-top-color: var(--fill-color);\n",
              "    }\n",
              "    60% {\n",
              "      border-color: transparent;\n",
              "      border-right-color: var(--fill-color);\n",
              "    }\n",
              "    80% {\n",
              "      border-color: transparent;\n",
              "      border-right-color: var(--fill-color);\n",
              "      border-bottom-color: var(--fill-color);\n",
              "    }\n",
              "    90% {\n",
              "      border-color: transparent;\n",
              "      border-bottom-color: var(--fill-color);\n",
              "    }\n",
              "  }\n",
              "</style>\n",
              "\n",
              "  <script>\n",
              "    async function quickchart(key) {\n",
              "      const quickchartButtonEl =\n",
              "        document.querySelector('#' + key + ' button');\n",
              "      quickchartButtonEl.disabled = true;  // To prevent multiple clicks.\n",
              "      quickchartButtonEl.classList.add('colab-df-spinner');\n",
              "      try {\n",
              "        const charts = await google.colab.kernel.invokeFunction(\n",
              "            'suggestCharts', [key], {});\n",
              "      } catch (error) {\n",
              "        console.error('Error during call to suggestCharts:', error);\n",
              "      }\n",
              "      quickchartButtonEl.classList.remove('colab-df-spinner');\n",
              "      quickchartButtonEl.classList.add('colab-df-quickchart-complete');\n",
              "    }\n",
              "    (() => {\n",
              "      let quickchartButtonEl =\n",
              "        document.querySelector('#df-70d38a92-9834-4553-a836-42c074e5aaa4 button');\n",
              "      quickchartButtonEl.style.display =\n",
              "        google.colab.kernel.accessAllowed ? 'block' : 'none';\n",
              "    })();\n",
              "  </script>\n",
              "</div>\n",
              "    </div>\n",
              "  </div>\n"
            ]
          },
          "metadata": {},
          "execution_count": 10
        }
      ]
    },
    {
      "cell_type": "code",
      "source": [
        "train.loc[11659, 'tags'] = 'سیاسی'\n",
        "train.loc[12186, 'tags'] = 'اجتماعی'"
      ],
      "metadata": {
        "id": "l8_Izq65V80g"
      },
      "execution_count": null,
      "outputs": []
    },
    {
      "cell_type": "code",
      "source": [
        "train[train['tags'] == 'بایگانی']"
      ],
      "metadata": {
        "colab": {
          "base_uri": "https://localhost:8080/",
          "height": 423
        },
        "id": "Dv64bIfx3Qt_",
        "outputId": "6dfdfd32-735d-4a8f-ec3a-a3f9d6ceebd3"
      },
      "execution_count": null,
      "outputs": [
        {
          "output_type": "execute_result",
          "data": {
            "text/plain": [
              "                                                   title  \\\n",
              "9763   شرکت هواپیمایی ترکیه پروازهایش به چهار شهر ایر...   \n",
              "9764   ادامه کشمکش لفظی بین وزارت بهداشت و نماینده مج...   \n",
              "9766   شمخانی نماینده قم را به دلیل سخنانش درباره کرو...   \n",
              "9767   وزیر دادگستری مامور پیگیری اتهامات نیلوفر بیان...   \n",
              "9768   دادگاه جدید پرونده ۱۶ هزار میلیارد تومانی گروه...   \n",
              "...                                                  ...   \n",
              "12450   جدایی‌طلبان یمن از طرح خودمختاری عقب‌نشینی کردند   \n",
              "12451  «بازداشت ۴۰ نفر» در ارتباط با آتش‌سوزی جنگل‌ها...   \n",
              "12454  روسیه: ابراز نگرانی لاوروف و ظریف درباره حضور ...   \n",
              "12455                     وزیر خارجه ایران وارد بیروت شد   \n",
              "12456         هوشنگ ظریف، استاد موسیقی سنتی ایران درگذشت   \n",
              "\n",
              "                                             description     tags  \n",
              "9763   در پی شیوع ویروس کرونا در ایران شرکت هواپیمایی...  بایگانی  \n",
              "9764   کشمکش لفظی بین معاون وزارت بهداشت و نماینده قم...  بایگانی  \n",
              "9766   علی شمخانی، دبیر شورای عالی امنیت ملی ایران، خ...  بایگانی  \n",
              "9767   علیرضا آوایی، وزیر دادگستری ایران، از سوی هیئت...  بایگانی  \n",
              "9768   رسیدگی به پرونده ١۶ هزار میلیارد تومانی عباس ا...  بایگانی  \n",
              "...                                                  ...      ...  \n",
              "12450  سه ماه بعد از اعلام خودمختاری جدایی‌طلبان یمن،...  بایگانی  \n",
              "12451  فرمانده یگان حفاظت سازمان جنگل‌ها، مراتع و آبخ...  بایگانی  \n",
              "12454  وزارت خارجه روسیه اعلام کرد که سرگئی لاوروف  و...  بایگانی  \n",
              "12455  در حالی که اعتراضات مردمی در لبنان در پی انفجا...  بایگانی  \n",
              "12456  هوشنگ ظریف،  استاد برجسته تار روز شنبه ۱۷ اسفن...  بایگانی  \n",
              "\n",
              "[1944 rows x 3 columns]"
            ],
            "text/html": [
              "\n",
              "  <div id=\"df-6ffb64eb-3c76-4a68-8426-9055da75cafa\" class=\"colab-df-container\">\n",
              "    <div>\n",
              "<style scoped>\n",
              "    .dataframe tbody tr th:only-of-type {\n",
              "        vertical-align: middle;\n",
              "    }\n",
              "\n",
              "    .dataframe tbody tr th {\n",
              "        vertical-align: top;\n",
              "    }\n",
              "\n",
              "    .dataframe thead th {\n",
              "        text-align: right;\n",
              "    }\n",
              "</style>\n",
              "<table border=\"1\" class=\"dataframe\">\n",
              "  <thead>\n",
              "    <tr style=\"text-align: right;\">\n",
              "      <th></th>\n",
              "      <th>title</th>\n",
              "      <th>description</th>\n",
              "      <th>tags</th>\n",
              "    </tr>\n",
              "  </thead>\n",
              "  <tbody>\n",
              "    <tr>\n",
              "      <th>9763</th>\n",
              "      <td>شرکت هواپیمایی ترکیه پروازهایش به چهار شهر ایر...</td>\n",
              "      <td>در پی شیوع ویروس کرونا در ایران شرکت هواپیمایی...</td>\n",
              "      <td>بایگانی</td>\n",
              "    </tr>\n",
              "    <tr>\n",
              "      <th>9764</th>\n",
              "      <td>ادامه کشمکش لفظی بین وزارت بهداشت و نماینده مج...</td>\n",
              "      <td>کشمکش لفظی بین معاون وزارت بهداشت و نماینده قم...</td>\n",
              "      <td>بایگانی</td>\n",
              "    </tr>\n",
              "    <tr>\n",
              "      <th>9766</th>\n",
              "      <td>شمخانی نماینده قم را به دلیل سخنانش درباره کرو...</td>\n",
              "      <td>علی شمخانی، دبیر شورای عالی امنیت ملی ایران، خ...</td>\n",
              "      <td>بایگانی</td>\n",
              "    </tr>\n",
              "    <tr>\n",
              "      <th>9767</th>\n",
              "      <td>وزیر دادگستری مامور پیگیری اتهامات نیلوفر بیان...</td>\n",
              "      <td>علیرضا آوایی، وزیر دادگستری ایران، از سوی هیئت...</td>\n",
              "      <td>بایگانی</td>\n",
              "    </tr>\n",
              "    <tr>\n",
              "      <th>9768</th>\n",
              "      <td>دادگاه جدید پرونده ۱۶ هزار میلیارد تومانی گروه...</td>\n",
              "      <td>رسیدگی به پرونده ١۶ هزار میلیارد تومانی عباس ا...</td>\n",
              "      <td>بایگانی</td>\n",
              "    </tr>\n",
              "    <tr>\n",
              "      <th>...</th>\n",
              "      <td>...</td>\n",
              "      <td>...</td>\n",
              "      <td>...</td>\n",
              "    </tr>\n",
              "    <tr>\n",
              "      <th>12450</th>\n",
              "      <td>جدایی‌طلبان یمن از طرح خودمختاری عقب‌نشینی کردند</td>\n",
              "      <td>سه ماه بعد از اعلام خودمختاری جدایی‌طلبان یمن،...</td>\n",
              "      <td>بایگانی</td>\n",
              "    </tr>\n",
              "    <tr>\n",
              "      <th>12451</th>\n",
              "      <td>«بازداشت ۴۰ نفر» در ارتباط با آتش‌سوزی جنگل‌ها...</td>\n",
              "      <td>فرمانده یگان حفاظت سازمان جنگل‌ها، مراتع و آبخ...</td>\n",
              "      <td>بایگانی</td>\n",
              "    </tr>\n",
              "    <tr>\n",
              "      <th>12454</th>\n",
              "      <td>روسیه: ابراز نگرانی لاوروف و ظریف درباره حضور ...</td>\n",
              "      <td>وزارت خارجه روسیه اعلام کرد که سرگئی لاوروف  و...</td>\n",
              "      <td>بایگانی</td>\n",
              "    </tr>\n",
              "    <tr>\n",
              "      <th>12455</th>\n",
              "      <td>وزیر خارجه ایران وارد بیروت شد</td>\n",
              "      <td>در حالی که اعتراضات مردمی در لبنان در پی انفجا...</td>\n",
              "      <td>بایگانی</td>\n",
              "    </tr>\n",
              "    <tr>\n",
              "      <th>12456</th>\n",
              "      <td>هوشنگ ظریف، استاد موسیقی سنتی ایران درگذشت</td>\n",
              "      <td>هوشنگ ظریف،  استاد برجسته تار روز شنبه ۱۷ اسفن...</td>\n",
              "      <td>بایگانی</td>\n",
              "    </tr>\n",
              "  </tbody>\n",
              "</table>\n",
              "<p>1944 rows × 3 columns</p>\n",
              "</div>\n",
              "    <div class=\"colab-df-buttons\">\n",
              "\n",
              "  <div class=\"colab-df-container\">\n",
              "    <button class=\"colab-df-convert\" onclick=\"convertToInteractive('df-6ffb64eb-3c76-4a68-8426-9055da75cafa')\"\n",
              "            title=\"Convert this dataframe to an interactive table.\"\n",
              "            style=\"display:none;\">\n",
              "\n",
              "  <svg xmlns=\"http://www.w3.org/2000/svg\" height=\"24px\" viewBox=\"0 -960 960 960\">\n",
              "    <path d=\"M120-120v-720h720v720H120Zm60-500h600v-160H180v160Zm220 220h160v-160H400v160Zm0 220h160v-160H400v160ZM180-400h160v-160H180v160Zm440 0h160v-160H620v160ZM180-180h160v-160H180v160Zm440 0h160v-160H620v160Z\"/>\n",
              "  </svg>\n",
              "    </button>\n",
              "\n",
              "  <style>\n",
              "    .colab-df-container {\n",
              "      display:flex;\n",
              "      gap: 12px;\n",
              "    }\n",
              "\n",
              "    .colab-df-convert {\n",
              "      background-color: #E8F0FE;\n",
              "      border: none;\n",
              "      border-radius: 50%;\n",
              "      cursor: pointer;\n",
              "      display: none;\n",
              "      fill: #1967D2;\n",
              "      height: 32px;\n",
              "      padding: 0 0 0 0;\n",
              "      width: 32px;\n",
              "    }\n",
              "\n",
              "    .colab-df-convert:hover {\n",
              "      background-color: #E2EBFA;\n",
              "      box-shadow: 0px 1px 2px rgba(60, 64, 67, 0.3), 0px 1px 3px 1px rgba(60, 64, 67, 0.15);\n",
              "      fill: #174EA6;\n",
              "    }\n",
              "\n",
              "    .colab-df-buttons div {\n",
              "      margin-bottom: 4px;\n",
              "    }\n",
              "\n",
              "    [theme=dark] .colab-df-convert {\n",
              "      background-color: #3B4455;\n",
              "      fill: #D2E3FC;\n",
              "    }\n",
              "\n",
              "    [theme=dark] .colab-df-convert:hover {\n",
              "      background-color: #434B5C;\n",
              "      box-shadow: 0px 1px 3px 1px rgba(0, 0, 0, 0.15);\n",
              "      filter: drop-shadow(0px 1px 2px rgba(0, 0, 0, 0.3));\n",
              "      fill: #FFFFFF;\n",
              "    }\n",
              "  </style>\n",
              "\n",
              "    <script>\n",
              "      const buttonEl =\n",
              "        document.querySelector('#df-6ffb64eb-3c76-4a68-8426-9055da75cafa button.colab-df-convert');\n",
              "      buttonEl.style.display =\n",
              "        google.colab.kernel.accessAllowed ? 'block' : 'none';\n",
              "\n",
              "      async function convertToInteractive(key) {\n",
              "        const element = document.querySelector('#df-6ffb64eb-3c76-4a68-8426-9055da75cafa');\n",
              "        const dataTable =\n",
              "          await google.colab.kernel.invokeFunction('convertToInteractive',\n",
              "                                                    [key], {});\n",
              "        if (!dataTable) return;\n",
              "\n",
              "        const docLinkHtml = 'Like what you see? Visit the ' +\n",
              "          '<a target=\"_blank\" href=https://colab.research.google.com/notebooks/data_table.ipynb>data table notebook</a>'\n",
              "          + ' to learn more about interactive tables.';\n",
              "        element.innerHTML = '';\n",
              "        dataTable['output_type'] = 'display_data';\n",
              "        await google.colab.output.renderOutput(dataTable, element);\n",
              "        const docLink = document.createElement('div');\n",
              "        docLink.innerHTML = docLinkHtml;\n",
              "        element.appendChild(docLink);\n",
              "      }\n",
              "    </script>\n",
              "  </div>\n",
              "\n",
              "\n",
              "<div id=\"df-97cbfc95-f466-437b-8f2a-0ee04133aa95\">\n",
              "  <button class=\"colab-df-quickchart\" onclick=\"quickchart('df-97cbfc95-f466-437b-8f2a-0ee04133aa95')\"\n",
              "            title=\"Suggest charts\"\n",
              "            style=\"display:none;\">\n",
              "\n",
              "<svg xmlns=\"http://www.w3.org/2000/svg\" height=\"24px\"viewBox=\"0 0 24 24\"\n",
              "     width=\"24px\">\n",
              "    <g>\n",
              "        <path d=\"M19 3H5c-1.1 0-2 .9-2 2v14c0 1.1.9 2 2 2h14c1.1 0 2-.9 2-2V5c0-1.1-.9-2-2-2zM9 17H7v-7h2v7zm4 0h-2V7h2v10zm4 0h-2v-4h2v4z\"/>\n",
              "    </g>\n",
              "</svg>\n",
              "  </button>\n",
              "\n",
              "<style>\n",
              "  .colab-df-quickchart {\n",
              "      --bg-color: #E8F0FE;\n",
              "      --fill-color: #1967D2;\n",
              "      --hover-bg-color: #E2EBFA;\n",
              "      --hover-fill-color: #174EA6;\n",
              "      --disabled-fill-color: #AAA;\n",
              "      --disabled-bg-color: #DDD;\n",
              "  }\n",
              "\n",
              "  [theme=dark] .colab-df-quickchart {\n",
              "      --bg-color: #3B4455;\n",
              "      --fill-color: #D2E3FC;\n",
              "      --hover-bg-color: #434B5C;\n",
              "      --hover-fill-color: #FFFFFF;\n",
              "      --disabled-bg-color: #3B4455;\n",
              "      --disabled-fill-color: #666;\n",
              "  }\n",
              "\n",
              "  .colab-df-quickchart {\n",
              "    background-color: var(--bg-color);\n",
              "    border: none;\n",
              "    border-radius: 50%;\n",
              "    cursor: pointer;\n",
              "    display: none;\n",
              "    fill: var(--fill-color);\n",
              "    height: 32px;\n",
              "    padding: 0;\n",
              "    width: 32px;\n",
              "  }\n",
              "\n",
              "  .colab-df-quickchart:hover {\n",
              "    background-color: var(--hover-bg-color);\n",
              "    box-shadow: 0 1px 2px rgba(60, 64, 67, 0.3), 0 1px 3px 1px rgba(60, 64, 67, 0.15);\n",
              "    fill: var(--button-hover-fill-color);\n",
              "  }\n",
              "\n",
              "  .colab-df-quickchart-complete:disabled,\n",
              "  .colab-df-quickchart-complete:disabled:hover {\n",
              "    background-color: var(--disabled-bg-color);\n",
              "    fill: var(--disabled-fill-color);\n",
              "    box-shadow: none;\n",
              "  }\n",
              "\n",
              "  .colab-df-spinner {\n",
              "    border: 2px solid var(--fill-color);\n",
              "    border-color: transparent;\n",
              "    border-bottom-color: var(--fill-color);\n",
              "    animation:\n",
              "      spin 1s steps(1) infinite;\n",
              "  }\n",
              "\n",
              "  @keyframes spin {\n",
              "    0% {\n",
              "      border-color: transparent;\n",
              "      border-bottom-color: var(--fill-color);\n",
              "      border-left-color: var(--fill-color);\n",
              "    }\n",
              "    20% {\n",
              "      border-color: transparent;\n",
              "      border-left-color: var(--fill-color);\n",
              "      border-top-color: var(--fill-color);\n",
              "    }\n",
              "    30% {\n",
              "      border-color: transparent;\n",
              "      border-left-color: var(--fill-color);\n",
              "      border-top-color: var(--fill-color);\n",
              "      border-right-color: var(--fill-color);\n",
              "    }\n",
              "    40% {\n",
              "      border-color: transparent;\n",
              "      border-right-color: var(--fill-color);\n",
              "      border-top-color: var(--fill-color);\n",
              "    }\n",
              "    60% {\n",
              "      border-color: transparent;\n",
              "      border-right-color: var(--fill-color);\n",
              "    }\n",
              "    80% {\n",
              "      border-color: transparent;\n",
              "      border-right-color: var(--fill-color);\n",
              "      border-bottom-color: var(--fill-color);\n",
              "    }\n",
              "    90% {\n",
              "      border-color: transparent;\n",
              "      border-bottom-color: var(--fill-color);\n",
              "    }\n",
              "  }\n",
              "</style>\n",
              "\n",
              "  <script>\n",
              "    async function quickchart(key) {\n",
              "      const quickchartButtonEl =\n",
              "        document.querySelector('#' + key + ' button');\n",
              "      quickchartButtonEl.disabled = true;  // To prevent multiple clicks.\n",
              "      quickchartButtonEl.classList.add('colab-df-spinner');\n",
              "      try {\n",
              "        const charts = await google.colab.kernel.invokeFunction(\n",
              "            'suggestCharts', [key], {});\n",
              "      } catch (error) {\n",
              "        console.error('Error during call to suggestCharts:', error);\n",
              "      }\n",
              "      quickchartButtonEl.classList.remove('colab-df-spinner');\n",
              "      quickchartButtonEl.classList.add('colab-df-quickchart-complete');\n",
              "    }\n",
              "    (() => {\n",
              "      let quickchartButtonEl =\n",
              "        document.querySelector('#df-97cbfc95-f466-437b-8f2a-0ee04133aa95 button');\n",
              "      quickchartButtonEl.style.display =\n",
              "        google.colab.kernel.accessAllowed ? 'block' : 'none';\n",
              "    })();\n",
              "  </script>\n",
              "</div>\n",
              "    </div>\n",
              "  </div>\n"
            ]
          },
          "metadata": {},
          "execution_count": 12
        }
      ]
    },
    {
      "cell_type": "code",
      "source": [
        "train['tags'].value_counts().iloc[:10]"
      ],
      "metadata": {
        "colab": {
          "base_uri": "https://localhost:8080/"
        },
        "id": "-NoTdjf324N9",
        "outputId": "16d7d42a-73c1-41a9-d571-3c3c29b24b50"
      },
      "execution_count": null,
      "outputs": [
        {
          "output_type": "execute_result",
          "data": {
            "text/plain": [
              "بایگانی                1944\n",
              "جهان                   1658\n",
              "ایران                  1188\n",
              "بین الملل               972\n",
              "سیاسی                   922\n",
              "سیاسی > دولت            506\n",
              "اجتماعی                 494\n",
              "اقتصادی                 478\n",
              "استانها                 433\n",
              "سیاسی > سیاست خارجی     418\n",
              "Name: tags, dtype: int64"
            ]
          },
          "metadata": {},
          "execution_count": 13
        }
      ]
    },
    {
      "cell_type": "code",
      "source": [
        "train['tags'].value_counts().iloc[10:20]"
      ],
      "metadata": {
        "colab": {
          "base_uri": "https://localhost:8080/"
        },
        "id": "raO9NenB5IjD",
        "outputId": "e6b1031d-1074-4e0a-e5c0-1f6e5e874bf6"
      },
      "execution_count": null,
      "outputs": [
        {
          "output_type": "execute_result",
          "data": {
            "text/plain": [
              "اجتماعی > سلامت           407\n",
              "آلمان                     310\n",
              "سیاسی > مجلس              266\n",
              "سیاسی > سیاست داخلی       261\n",
              "دانش و محیط زیست          203\n",
              "سیاسی > حقوقی و قضایی     166\n",
              "اقتصاد                    133\n",
              "فرهنگی                    126\n",
              "سیاسی > دفاعی - امنيتی    110\n",
              "اقتصادی > اقتصاد کلان     108\n",
              "Name: tags, dtype: int64"
            ]
          },
          "metadata": {},
          "execution_count": 14
        }
      ]
    },
    {
      "cell_type": "code",
      "source": [
        "train['tags'].value_counts().iloc[20:30]"
      ],
      "metadata": {
        "colab": {
          "base_uri": "https://localhost:8080/"
        },
        "id": "DA0Wi2i85Rc9",
        "outputId": "14abd46e-c7fa-45b7-9b81-11f584921bbf"
      },
      "execution_count": null,
      "outputs": [
        {
          "output_type": "execute_result",
          "data": {
            "text/plain": [
              "اجتماعی > حوادث، انتظامی           79\n",
              "فرهنگ و هنر                        75\n",
              "ورزشی > فوتبال، فوتسال             68\n",
              "علمی و دانشگاهی > آموزش            67\n",
              "اقتصادی > تولید و تجارت            63\n",
              "اجتماعی > جامعه، شهری              61\n",
              "اقتصادی > عمران و اشتغال           49\n",
              "بین الملل > آسیا،خاورمیانه         47\n",
              "اجتماعی > آموزش و پرورش            46\n",
              "فرهنگی و هنری > گردشگری و میراث    42\n",
              "Name: tags, dtype: int64"
            ]
          },
          "metadata": {},
          "execution_count": 15
        }
      ]
    },
    {
      "cell_type": "code",
      "source": [
        "train['tags'].value_counts().iloc[30:40]"
      ],
      "metadata": {
        "colab": {
          "base_uri": "https://localhost:8080/"
        },
        "id": "Xbzp-YqE5aPv",
        "outputId": "37b53e1f-3b9f-4341-b656-ffaf4ef97b4a"
      },
      "execution_count": null,
      "outputs": [
        {
          "output_type": "execute_result",
          "data": {
            "text/plain": [
              "علمی و دانشگاهی > علم و فناوری ایران    38\n",
              "اقتصادی > انرژی                         37\n",
              "اجتماعی > محیط زیست                     37\n",
              "سیاسی > انرژی هسته‎‌ای                  35\n",
              "اجتماعی > خانواده                       35\n",
              "سیاسی > اندیشه امام و رهبری             34\n",
              "ورزش                                    33\n",
              "اقتصاد ایران                            32\n",
              "دیدگاه                                  31\n",
              "بین الملل > فرامنطقه ای                 24\n",
              "Name: tags, dtype: int64"
            ]
          },
          "metadata": {},
          "execution_count": 16
        }
      ]
    },
    {
      "cell_type": "code",
      "source": [
        "train['tags'].value_counts().iloc[40:50]"
      ],
      "metadata": {
        "colab": {
          "base_uri": "https://localhost:8080/"
        },
        "id": "oyg0Z5OR5jvN",
        "outputId": "891a9289-b553-4f7c-dc67-76016ef98732"
      },
      "execution_count": null,
      "outputs": [
        {
          "output_type": "execute_result",
          "data": {
            "text/plain": [
              "علمی و دانشگاهی > علم و فناوری جهان    23\n",
              "ورزشی                                  22\n",
              "خبرخوان                                20\n",
              "ايران                                  20\n",
              "استان ها > کهگیلویه و بویراحمد         18\n",
              "فرهنگی و هنری > سینما و تئاتر          17\n",
              "فرهنگی و هنری > تجسمی و موسیقی         17\n",
              "استان ها > خوزستان                     16\n",
              "اقتصادی > ارتباطات و فناوری اطلاعات    15\n",
              "NRS-Import                             14\n",
              "Name: tags, dtype: int64"
            ]
          },
          "metadata": {},
          "execution_count": 17
        }
      ]
    },
    {
      "cell_type": "code",
      "source": [
        "train['tags'].value_counts().iloc[50:60]"
      ],
      "metadata": {
        "colab": {
          "base_uri": "https://localhost:8080/"
        },
        "id": "wgjqVN6y6hIp",
        "outputId": "4c81a190-38e9-4808-e853-8a718198fdc6"
      },
      "execution_count": null,
      "outputs": [
        {
          "output_type": "execute_result",
          "data": {
            "text/plain": [
              "فرهنگی و هنری > رسانه           12\n",
              "استان ها > مازندران             12\n",
              "استان ها > تهران                12\n",
              "استان ها > هرمزگان              11\n",
              "فرهنگی و هنری > دین و اندیشه    10\n",
              "استان ها > گیلان                 9\n",
              "ورزشی > جهان ورزش                9\n",
              "استان ها > کرمانشاه              9\n",
              "ورزشی > سایر ورزش‌ها             9\n",
              "استان ها > اصفهان                9\n",
              "Name: tags, dtype: int64"
            ]
          },
          "metadata": {},
          "execution_count": 18
        }
      ]
    },
    {
      "cell_type": "code",
      "source": [
        "train['tags'].value_counts().iloc[60:70]"
      ],
      "metadata": {
        "colab": {
          "base_uri": "https://localhost:8080/"
        },
        "id": "nscDLDZP7_-q",
        "outputId": "766d5c57-c0c7-4a1e-a4c8-fdb9683d9ccf"
      },
      "execution_count": null,
      "outputs": [
        {
          "output_type": "execute_result",
          "data": {
            "text/plain": [
              "عکس > خبری                         8\n",
              "علمی و دانشگاهی > پژوهش            8\n",
              "استان ها > مرکزی                   8\n",
              "علمی و دانشگاهی > صنفی، فرهنگی     7\n",
              "استان ها > خراسان رضوی             7\n",
              "رسانه ها                           7\n",
              "فرهنگی و هنری > ادبیات و کتاب      7\n",
              "علمی و دانشگاهی > جهاد دانشگاهی    6\n",
              "دانش و فناوری                      6\n",
              "استان ها > قم                      5\n",
              "Name: tags, dtype: int64"
            ]
          },
          "metadata": {},
          "execution_count": 19
        }
      ]
    },
    {
      "cell_type": "code",
      "source": [
        "train['tags'].value_counts().iloc[70:80]"
      ],
      "metadata": {
        "colab": {
          "base_uri": "https://localhost:8080/"
        },
        "id": "e4Iuvbi08Jxq",
        "outputId": "65caf759-5f45-40d3-88d0-8a37ef806720"
      },
      "execution_count": null,
      "outputs": [
        {
          "output_type": "execute_result",
          "data": {
            "text/plain": [
              "گرافیک > اینفوگرافیک             5\n",
              "فرهنگی و هنری > فرهنگ حماسه      5\n",
              "استان ها > لرستان                4\n",
              "ورزشی > کشتی، رزمی               4\n",
              "استان ها > بوشهر                 4\n",
              "استان ها > سیستان و بلوچستان     4\n",
              "استان ها > چهارمحال و بختیاری    3\n",
              "استان ها > سمنان                 3\n",
              "ورزشی > ورزش بانوان              3\n",
              "ایسنا+ > ایسنا+                  3\n",
              "Name: tags, dtype: int64"
            ]
          },
          "metadata": {},
          "execution_count": 20
        }
      ]
    },
    {
      "cell_type": "code",
      "source": [
        "train['tags'].value_counts().iloc[80:]"
      ],
      "metadata": {
        "colab": {
          "base_uri": "https://localhost:8080/"
        },
        "id": "8fbKm83F8SWZ",
        "outputId": "0f7c56a3-7f3f-49e0-bb28-a89807de7dc4"
      },
      "execution_count": null,
      "outputs": [
        {
          "output_type": "execute_result",
          "data": {
            "text/plain": [
              "استان ها > گلستان          3\n",
              "استان ها > البرز           3\n",
              "استان ها > کرمان           3\n",
              "استان ها > زنجان           3\n",
              "استان ها > خراسان جنوبی    2\n",
              "گوناگون                    2\n",
              "دوره‌های زبان آلمانی       1\n",
              "استان ها > فارس            1\n",
              "بازار                      1\n",
              "الشرق الأوسط               1\n",
              "شبکه‌های اجتماعی           1\n",
              "بین الملل > فلسطین         1\n",
              "استان ها > اردبیل          1\n",
              "استان ها > یزد             1\n",
              "استان ها > ایلام           1\n",
              "Community D                1\n",
              "آلمانی پیش‌رفته            1\n",
              "ورزشی > توپ و تور          1\n",
              "ویدئو > گزارش              1\n",
              "دویچه وله                  1\n",
              "Name: tags, dtype: int64"
            ]
          },
          "metadata": {},
          "execution_count": 21
        }
      ]
    },
    {
      "cell_type": "markdown",
      "source": [
        "### Change Tags Into Desired Tags"
      ],
      "metadata": {
        "id": "hyOdqtfdO7vq"
      }
    },
    {
      "cell_type": "code",
      "source": [
        "news_tags = ['اجتماعی', 'اقتصادی', 'ایران_استانها', 'بین الملل', 'سیاسی', 'علمی_فرهنگی_ورزشی']\n",
        "\n",
        "def change_tags(x):\n",
        "  if x in news_tags:\n",
        "    return x\n",
        "  else:\n",
        "    if x.find('اجتماعی') != -1:\n",
        "      x = 'اجتماعی'\n",
        "    elif x.find('اقتصادی') != -1:\n",
        "      x = 'اقتصادی'\n",
        "    elif x.find('اقتصاد') != -1:\n",
        "      x = 'اقتصادی'\n",
        "    elif x.find('ايران') != -1:\n",
        "      x = 'ایران_استانها'\n",
        "    elif x.find('استان ها') != -1:\n",
        "      x = 'ایران_استانها'\n",
        "    elif x.find('استانها') != -1:\n",
        "      x = 'ایران_استانها'\n",
        "    elif x.find('بین الملل') != -1:\n",
        "      x = 'بین الملل'\n",
        "    elif x.find('سیاسی') != -1:\n",
        "      x = 'سیاسی'\n",
        "    elif x.find('علمی') != -1:\n",
        "      x = 'علمی_فرهنگی_ورزشی'\n",
        "    elif x.find('فرهنگی') != -1:\n",
        "      x = 'علمی_فرهنگی_ورزشی'\n",
        "    elif x.find('ورزش') != -1:\n",
        "      x = 'علمی_فرهنگی_ورزشی'\n",
        "    elif x.find('ورزشی') != -1:\n",
        "      x = 'علمی_فرهنگی_ورزشی'\n",
        "    elif x.find('هنر') != -1:\n",
        "      x = 'علمی_فرهنگی_ورزشی'\n",
        "    return x"
      ],
      "metadata": {
        "id": "7VhniFrWO3je"
      },
      "execution_count": null,
      "outputs": []
    },
    {
      "cell_type": "code",
      "source": [
        "train['tags'] = train['tags'].apply(change_tags)"
      ],
      "metadata": {
        "id": "oXB-Mb9LVTNG"
      },
      "execution_count": null,
      "outputs": []
    },
    {
      "cell_type": "code",
      "source": [
        "train['tags'].unique()"
      ],
      "metadata": {
        "colab": {
          "base_uri": "https://localhost:8080/"
        },
        "id": "3WXYOiTVVcXo",
        "outputId": "7f905c1f-1925-4bc4-96cd-6e1eada92dc7"
      },
      "execution_count": null,
      "outputs": [
        {
          "output_type": "execute_result",
          "data": {
            "text/plain": [
              "array(['ایران_استانها', 'اجتماعی', 'اقتصادی', 'سیاسی',\n",
              "       'علمی_فرهنگی_ورزشی', 'بین الملل', 'رسانه ها', 'بازار',\n",
              "       'الشرق الأوسط', 'دانش و محیط زیست', 'جهان', 'ایران', 'NRS-Import',\n",
              "       'آلمان', 'دیدگاه', 'دوره\\u200cهای زبان آلمانی', 'گوناگون',\n",
              "       'دویچه وله', 'Community D', 'آلمانی پیش\\u200cرفته',\n",
              "       'ویدئو > گزارش', 'گرافیک > اینفوگرافیک', 'ایسنا+ > ایسنا+',\n",
              "       'عکس > خبری', 'بایگانی', 'خبرخوان', 'دانش و فناوری'], dtype=object)"
            ]
          },
          "metadata": {},
          "execution_count": 24
        }
      ]
    },
    {
      "cell_type": "code",
      "source": [
        "train['tags'].value_counts()"
      ],
      "metadata": {
        "colab": {
          "base_uri": "https://localhost:8080/"
        },
        "id": "nooJjcIW_oQt",
        "outputId": "ff02a241-247f-4f3b-fccc-d5952814a7ca"
      },
      "execution_count": null,
      "outputs": [
        {
          "output_type": "execute_result",
          "data": {
            "text/plain": [
              "سیاسی                   2718\n",
              "بایگانی                 1944\n",
              "جهان                    1658\n",
              "ایران                   1188\n",
              "اجتماعی                 1160\n",
              "بین الملل               1044\n",
              "اقتصادی                  915\n",
              "علمی_فرهنگی_ورزشی        609\n",
              "ایران_استانها            605\n",
              "آلمان                    310\n",
              "دانش و محیط زیست         203\n",
              "دیدگاه                    31\n",
              "خبرخوان                   20\n",
              "NRS-Import                14\n",
              "عکس > خبری                 8\n",
              "رسانه ها                   7\n",
              "دانش و فناوری              6\n",
              "گرافیک > اینفوگرافیک       5\n",
              "ایسنا+ > ایسنا+            3\n",
              "گوناگون                    2\n",
              "دویچه وله                  1\n",
              "الشرق الأوسط               1\n",
              "آلمانی پیش‌رفته            1\n",
              "ویدئو > گزارش              1\n",
              "دوره‌های زبان آلمانی       1\n",
              "بازار                      1\n",
              "Community D                1\n",
              "Name: tags, dtype: int64"
            ]
          },
          "metadata": {},
          "execution_count": 25
        }
      ]
    },
    {
      "cell_type": "code",
      "source": [
        "train[train['tags'] == 'آلمان']['description']"
      ],
      "metadata": {
        "colab": {
          "base_uri": "https://localhost:8080/"
        },
        "id": "jqMpiX3pA29w",
        "outputId": "f316d72c-9196-4f66-fb5a-c3adc673679b"
      },
      "execution_count": null,
      "outputs": [
        {
          "output_type": "execute_result",
          "data": {
            "text/plain": [
              "3045    با تصویب وزیران بهداشت ایالتی از این پس تمام م...\n",
              "3046    آلمان برای مقابله با گسترش ویروس کرونا در این ...\n",
              "3050    نخستین نتایج تحقیقات درگیری‌های خیابانی بی‌ساب...\n",
              "3054    دادگاهی در آخن برای رسیدگی به اتهام کلاهبرداری...\n",
              "3066    برخی ویروس‌شناسان آلمان بر این باورند که در دو...\n",
              "                              ...                        \n",
              "6411    یک پنجم رای‌دهندگان آلمانی اعتقاد دارند که متو...\n",
              "6420    ۴۷ کودک و نوجوان بی​‌سرپرست که در اردوگاه‌های ...\n",
              "6422    پس از ورود غیرمنتظره پناهجویان به آلمان در سال...\n",
              "6428    ۸ ماه مه ۱۹۴۵، میلیون ها کشته و یک قاره ویرانه...\n",
              "6429    ۸ ماه مه ۱۹۴۵، میلیون ها کشته و یک قاره ویرانه...\n",
              "Name: description, Length: 310, dtype: object"
            ]
          },
          "metadata": {},
          "execution_count": 26
        }
      ]
    },
    {
      "cell_type": "code",
      "source": [
        "train[train['tags'] == 'خبرخوان']['description']"
      ],
      "metadata": {
        "colab": {
          "base_uri": "https://localhost:8080/"
        },
        "id": "uGtTIgYPBHtW",
        "outputId": "c769936e-b223-493f-ac58-209015634d45"
      },
      "execution_count": null,
      "outputs": [
        {
          "output_type": "execute_result",
          "data": {
            "text/plain": [
              "10284    سخنگوی وزارت بهداشت ایران از افزایش تعداد قربا...\n",
              "10514    سخنگوی شورای نگهبان می‌گوید «عدم تأیید صلاحیت ...\n",
              "10832    یک عضو شورای شهر همدان می‌گوید با افزایش «شش ب...\n",
              "10839    خبرگزاری ایسنا از افزایش ۱۵.۵ میلیون تومانی قی...\n",
              "10840    باشگاه خبرنگاران جوان به نقل از برخی استفاده‌ک...\n",
              "10858    یک مقام اتاق اصناف ایران، خسارت ماهیانه تعطیلا...\n",
              "10860    معاون سیاسی-امنیتی استاندار یزد با تایید شلیک ...\n",
              "10872    فریدون همتی، استاندار هرمزگان با ابراز نگرانی ...\n",
              "10887    احمد یوسفی، معاون پلیس کرمان گفته است زنی که ب...\n",
              "11112    همزمان با رزمایش دریایی پکن در دریای جنوبی چین...\n",
              "11653    رئیس مرکز فوریت‌های پزشکی استان البرز از مرگ د...\n",
              "11661    امیر حاتمی، وزیر دفاع ایران می‌گوید با برداشته...\n",
              "11663    رئیس کل سازمان نظام پزشکی ایران از تغییر ناگها...\n",
              "12054    کانادا پنجشنبه از طرح آمریکا برای استقرار نیرو...\n",
              "12130    سران کشورهای عضو گروه ۲۰ روز پنجشنبه وعده دادن...\n",
              "12137    گازگرفتگی در یک معدن در گیلانغرب، یک کشته و شش...\n",
              "12140     گزارش ها حاکی است که تست کرونای احسان حدادی٬ ...\n",
              "12156    کریستالینا جیورجیوا، رئیس صندوق بین‌المللی پول...\n",
              "12265    تقی رحمانی، فعال سیاسی از احتمال ابتلای نرگس م...\n",
              "12429    شهر سانفرانسیسکو در ایالت کالیفرنیا آمریکا روز...\n",
              "Name: description, dtype: object"
            ]
          },
          "metadata": {},
          "execution_count": 27
        }
      ]
    },
    {
      "cell_type": "code",
      "source": [
        "train.loc[train['tags'] == 'آلمان', 'tags'] = 'بین الملل'\n",
        "train.loc[train['tags'] == 'جهان', 'tags'] = 'بین الملل'\n",
        "train.loc[train['tags'] == 'ایران', 'tags'] = 'ایران_استانها'\n",
        "train.loc[train['tags'] == 'خبرخوان', 'tags'] = 'ایران_استانها'\n",
        "train.loc[train['tags'] == 'دانش و محیط زیست', 'tags'] = 'علمی_فرهنگی_ورزشی'\n",
        "train.loc[train['tags'] == 'دانش و فناوری', 'tags'] = 'علمی_فرهنگی_ورزشی'"
      ],
      "metadata": {
        "id": "QN2bN417ACDw"
      },
      "execution_count": null,
      "outputs": []
    },
    {
      "cell_type": "code",
      "source": [
        "train['tags'].value_counts()"
      ],
      "metadata": {
        "colab": {
          "base_uri": "https://localhost:8080/"
        },
        "id": "hO0ZB0goCJ_X",
        "outputId": "ad2ec3eb-6fcc-4b1e-d730-067add842cf4"
      },
      "execution_count": null,
      "outputs": [
        {
          "output_type": "execute_result",
          "data": {
            "text/plain": [
              "بین الملل               3012\n",
              "سیاسی                   2718\n",
              "بایگانی                 1944\n",
              "ایران_استانها           1813\n",
              "اجتماعی                 1160\n",
              "اقتصادی                  915\n",
              "علمی_فرهنگی_ورزشی        818\n",
              "دیدگاه                    31\n",
              "NRS-Import                14\n",
              "عکس > خبری                 8\n",
              "رسانه ها                   7\n",
              "گرافیک > اینفوگرافیک       5\n",
              "ایسنا+ > ایسنا+            3\n",
              "گوناگون                    2\n",
              "الشرق الأوسط               1\n",
              "بازار                      1\n",
              "دوره‌های زبان آلمانی       1\n",
              "دویچه وله                  1\n",
              "Community D                1\n",
              "آلمانی پیش‌رفته            1\n",
              "ویدئو > گزارش              1\n",
              "Name: tags, dtype: int64"
            ]
          },
          "metadata": {},
          "execution_count": 29
        }
      ]
    },
    {
      "cell_type": "code",
      "source": [
        "train[train['tags'] == 'بایگانی']['description']"
      ],
      "metadata": {
        "colab": {
          "base_uri": "https://localhost:8080/"
        },
        "id": "I8tfe3cRIhsS",
        "outputId": "b8f7cbd6-8bf0-4396-b66d-3dca79f26136"
      },
      "execution_count": null,
      "outputs": [
        {
          "output_type": "execute_result",
          "data": {
            "text/plain": [
              "9763     در پی شیوع ویروس کرونا در ایران شرکت هواپیمایی...\n",
              "9764     کشمکش لفظی بین معاون وزارت بهداشت و نماینده قم...\n",
              "9766     علی شمخانی، دبیر شورای عالی امنیت ملی ایران، خ...\n",
              "9767     علیرضا آوایی، وزیر دادگستری ایران، از سوی هیئت...\n",
              "9768     رسیدگی به پرونده ١۶ هزار میلیارد تومانی عباس ا...\n",
              "                               ...                        \n",
              "12450    سه ماه بعد از اعلام خودمختاری جدایی‌طلبان یمن،...\n",
              "12451    فرمانده یگان حفاظت سازمان جنگل‌ها، مراتع و آبخ...\n",
              "12454    وزارت خارجه روسیه اعلام کرد که سرگئی لاوروف  و...\n",
              "12455    در حالی که اعتراضات مردمی در لبنان در پی انفجا...\n",
              "12456    هوشنگ ظریف،  استاد برجسته تار روز شنبه ۱۷ اسفن...\n",
              "Name: description, Length: 1944, dtype: object"
            ]
          },
          "metadata": {},
          "execution_count": 30
        }
      ]
    },
    {
      "cell_type": "code",
      "source": [
        "train = train[train['tags'].isin(news_tags)]"
      ],
      "metadata": {
        "id": "6tO832jWGFod"
      },
      "execution_count": null,
      "outputs": []
    },
    {
      "cell_type": "code",
      "source": [
        "train.groupby('tags').count()"
      ],
      "metadata": {
        "colab": {
          "base_uri": "https://localhost:8080/",
          "height": 269
        },
        "id": "htRMN7rh3bJw",
        "outputId": "8763b7d5-bb9d-4065-8f11-fe6bcced7cc6"
      },
      "execution_count": null,
      "outputs": [
        {
          "output_type": "execute_result",
          "data": {
            "text/plain": [
              "                   title  description\n",
              "tags                                 \n",
              "اجتماعی             1160         1160\n",
              "اقتصادی              915          915\n",
              "ایران_استانها       1813         1813\n",
              "بین الملل           3012         3012\n",
              "سیاسی               2718         2718\n",
              "علمی_فرهنگی_ورزشی    818          818"
            ],
            "text/html": [
              "\n",
              "  <div id=\"df-f33681f3-2bce-44fe-b05c-f0c5f47426d9\" class=\"colab-df-container\">\n",
              "    <div>\n",
              "<style scoped>\n",
              "    .dataframe tbody tr th:only-of-type {\n",
              "        vertical-align: middle;\n",
              "    }\n",
              "\n",
              "    .dataframe tbody tr th {\n",
              "        vertical-align: top;\n",
              "    }\n",
              "\n",
              "    .dataframe thead th {\n",
              "        text-align: right;\n",
              "    }\n",
              "</style>\n",
              "<table border=\"1\" class=\"dataframe\">\n",
              "  <thead>\n",
              "    <tr style=\"text-align: right;\">\n",
              "      <th></th>\n",
              "      <th>title</th>\n",
              "      <th>description</th>\n",
              "    </tr>\n",
              "    <tr>\n",
              "      <th>tags</th>\n",
              "      <th></th>\n",
              "      <th></th>\n",
              "    </tr>\n",
              "  </thead>\n",
              "  <tbody>\n",
              "    <tr>\n",
              "      <th>اجتماعی</th>\n",
              "      <td>1160</td>\n",
              "      <td>1160</td>\n",
              "    </tr>\n",
              "    <tr>\n",
              "      <th>اقتصادی</th>\n",
              "      <td>915</td>\n",
              "      <td>915</td>\n",
              "    </tr>\n",
              "    <tr>\n",
              "      <th>ایران_استانها</th>\n",
              "      <td>1813</td>\n",
              "      <td>1813</td>\n",
              "    </tr>\n",
              "    <tr>\n",
              "      <th>بین الملل</th>\n",
              "      <td>3012</td>\n",
              "      <td>3012</td>\n",
              "    </tr>\n",
              "    <tr>\n",
              "      <th>سیاسی</th>\n",
              "      <td>2718</td>\n",
              "      <td>2718</td>\n",
              "    </tr>\n",
              "    <tr>\n",
              "      <th>علمی_فرهنگی_ورزشی</th>\n",
              "      <td>818</td>\n",
              "      <td>818</td>\n",
              "    </tr>\n",
              "  </tbody>\n",
              "</table>\n",
              "</div>\n",
              "    <div class=\"colab-df-buttons\">\n",
              "\n",
              "  <div class=\"colab-df-container\">\n",
              "    <button class=\"colab-df-convert\" onclick=\"convertToInteractive('df-f33681f3-2bce-44fe-b05c-f0c5f47426d9')\"\n",
              "            title=\"Convert this dataframe to an interactive table.\"\n",
              "            style=\"display:none;\">\n",
              "\n",
              "  <svg xmlns=\"http://www.w3.org/2000/svg\" height=\"24px\" viewBox=\"0 -960 960 960\">\n",
              "    <path d=\"M120-120v-720h720v720H120Zm60-500h600v-160H180v160Zm220 220h160v-160H400v160Zm0 220h160v-160H400v160ZM180-400h160v-160H180v160Zm440 0h160v-160H620v160ZM180-180h160v-160H180v160Zm440 0h160v-160H620v160Z\"/>\n",
              "  </svg>\n",
              "    </button>\n",
              "\n",
              "  <style>\n",
              "    .colab-df-container {\n",
              "      display:flex;\n",
              "      gap: 12px;\n",
              "    }\n",
              "\n",
              "    .colab-df-convert {\n",
              "      background-color: #E8F0FE;\n",
              "      border: none;\n",
              "      border-radius: 50%;\n",
              "      cursor: pointer;\n",
              "      display: none;\n",
              "      fill: #1967D2;\n",
              "      height: 32px;\n",
              "      padding: 0 0 0 0;\n",
              "      width: 32px;\n",
              "    }\n",
              "\n",
              "    .colab-df-convert:hover {\n",
              "      background-color: #E2EBFA;\n",
              "      box-shadow: 0px 1px 2px rgba(60, 64, 67, 0.3), 0px 1px 3px 1px rgba(60, 64, 67, 0.15);\n",
              "      fill: #174EA6;\n",
              "    }\n",
              "\n",
              "    .colab-df-buttons div {\n",
              "      margin-bottom: 4px;\n",
              "    }\n",
              "\n",
              "    [theme=dark] .colab-df-convert {\n",
              "      background-color: #3B4455;\n",
              "      fill: #D2E3FC;\n",
              "    }\n",
              "\n",
              "    [theme=dark] .colab-df-convert:hover {\n",
              "      background-color: #434B5C;\n",
              "      box-shadow: 0px 1px 3px 1px rgba(0, 0, 0, 0.15);\n",
              "      filter: drop-shadow(0px 1px 2px rgba(0, 0, 0, 0.3));\n",
              "      fill: #FFFFFF;\n",
              "    }\n",
              "  </style>\n",
              "\n",
              "    <script>\n",
              "      const buttonEl =\n",
              "        document.querySelector('#df-f33681f3-2bce-44fe-b05c-f0c5f47426d9 button.colab-df-convert');\n",
              "      buttonEl.style.display =\n",
              "        google.colab.kernel.accessAllowed ? 'block' : 'none';\n",
              "\n",
              "      async function convertToInteractive(key) {\n",
              "        const element = document.querySelector('#df-f33681f3-2bce-44fe-b05c-f0c5f47426d9');\n",
              "        const dataTable =\n",
              "          await google.colab.kernel.invokeFunction('convertToInteractive',\n",
              "                                                    [key], {});\n",
              "        if (!dataTable) return;\n",
              "\n",
              "        const docLinkHtml = 'Like what you see? Visit the ' +\n",
              "          '<a target=\"_blank\" href=https://colab.research.google.com/notebooks/data_table.ipynb>data table notebook</a>'\n",
              "          + ' to learn more about interactive tables.';\n",
              "        element.innerHTML = '';\n",
              "        dataTable['output_type'] = 'display_data';\n",
              "        await google.colab.output.renderOutput(dataTable, element);\n",
              "        const docLink = document.createElement('div');\n",
              "        docLink.innerHTML = docLinkHtml;\n",
              "        element.appendChild(docLink);\n",
              "      }\n",
              "    </script>\n",
              "  </div>\n",
              "\n",
              "\n",
              "<div id=\"df-190a90fb-cf6d-4ad4-83b3-0d254506fd4e\">\n",
              "  <button class=\"colab-df-quickchart\" onclick=\"quickchart('df-190a90fb-cf6d-4ad4-83b3-0d254506fd4e')\"\n",
              "            title=\"Suggest charts\"\n",
              "            style=\"display:none;\">\n",
              "\n",
              "<svg xmlns=\"http://www.w3.org/2000/svg\" height=\"24px\"viewBox=\"0 0 24 24\"\n",
              "     width=\"24px\">\n",
              "    <g>\n",
              "        <path d=\"M19 3H5c-1.1 0-2 .9-2 2v14c0 1.1.9 2 2 2h14c1.1 0 2-.9 2-2V5c0-1.1-.9-2-2-2zM9 17H7v-7h2v7zm4 0h-2V7h2v10zm4 0h-2v-4h2v4z\"/>\n",
              "    </g>\n",
              "</svg>\n",
              "  </button>\n",
              "\n",
              "<style>\n",
              "  .colab-df-quickchart {\n",
              "      --bg-color: #E8F0FE;\n",
              "      --fill-color: #1967D2;\n",
              "      --hover-bg-color: #E2EBFA;\n",
              "      --hover-fill-color: #174EA6;\n",
              "      --disabled-fill-color: #AAA;\n",
              "      --disabled-bg-color: #DDD;\n",
              "  }\n",
              "\n",
              "  [theme=dark] .colab-df-quickchart {\n",
              "      --bg-color: #3B4455;\n",
              "      --fill-color: #D2E3FC;\n",
              "      --hover-bg-color: #434B5C;\n",
              "      --hover-fill-color: #FFFFFF;\n",
              "      --disabled-bg-color: #3B4455;\n",
              "      --disabled-fill-color: #666;\n",
              "  }\n",
              "\n",
              "  .colab-df-quickchart {\n",
              "    background-color: var(--bg-color);\n",
              "    border: none;\n",
              "    border-radius: 50%;\n",
              "    cursor: pointer;\n",
              "    display: none;\n",
              "    fill: var(--fill-color);\n",
              "    height: 32px;\n",
              "    padding: 0;\n",
              "    width: 32px;\n",
              "  }\n",
              "\n",
              "  .colab-df-quickchart:hover {\n",
              "    background-color: var(--hover-bg-color);\n",
              "    box-shadow: 0 1px 2px rgba(60, 64, 67, 0.3), 0 1px 3px 1px rgba(60, 64, 67, 0.15);\n",
              "    fill: var(--button-hover-fill-color);\n",
              "  }\n",
              "\n",
              "  .colab-df-quickchart-complete:disabled,\n",
              "  .colab-df-quickchart-complete:disabled:hover {\n",
              "    background-color: var(--disabled-bg-color);\n",
              "    fill: var(--disabled-fill-color);\n",
              "    box-shadow: none;\n",
              "  }\n",
              "\n",
              "  .colab-df-spinner {\n",
              "    border: 2px solid var(--fill-color);\n",
              "    border-color: transparent;\n",
              "    border-bottom-color: var(--fill-color);\n",
              "    animation:\n",
              "      spin 1s steps(1) infinite;\n",
              "  }\n",
              "\n",
              "  @keyframes spin {\n",
              "    0% {\n",
              "      border-color: transparent;\n",
              "      border-bottom-color: var(--fill-color);\n",
              "      border-left-color: var(--fill-color);\n",
              "    }\n",
              "    20% {\n",
              "      border-color: transparent;\n",
              "      border-left-color: var(--fill-color);\n",
              "      border-top-color: var(--fill-color);\n",
              "    }\n",
              "    30% {\n",
              "      border-color: transparent;\n",
              "      border-left-color: var(--fill-color);\n",
              "      border-top-color: var(--fill-color);\n",
              "      border-right-color: var(--fill-color);\n",
              "    }\n",
              "    40% {\n",
              "      border-color: transparent;\n",
              "      border-right-color: var(--fill-color);\n",
              "      border-top-color: var(--fill-color);\n",
              "    }\n",
              "    60% {\n",
              "      border-color: transparent;\n",
              "      border-right-color: var(--fill-color);\n",
              "    }\n",
              "    80% {\n",
              "      border-color: transparent;\n",
              "      border-right-color: var(--fill-color);\n",
              "      border-bottom-color: var(--fill-color);\n",
              "    }\n",
              "    90% {\n",
              "      border-color: transparent;\n",
              "      border-bottom-color: var(--fill-color);\n",
              "    }\n",
              "  }\n",
              "</style>\n",
              "\n",
              "  <script>\n",
              "    async function quickchart(key) {\n",
              "      const quickchartButtonEl =\n",
              "        document.querySelector('#' + key + ' button');\n",
              "      quickchartButtonEl.disabled = true;  // To prevent multiple clicks.\n",
              "      quickchartButtonEl.classList.add('colab-df-spinner');\n",
              "      try {\n",
              "        const charts = await google.colab.kernel.invokeFunction(\n",
              "            'suggestCharts', [key], {});\n",
              "      } catch (error) {\n",
              "        console.error('Error during call to suggestCharts:', error);\n",
              "      }\n",
              "      quickchartButtonEl.classList.remove('colab-df-spinner');\n",
              "      quickchartButtonEl.classList.add('colab-df-quickchart-complete');\n",
              "    }\n",
              "    (() => {\n",
              "      let quickchartButtonEl =\n",
              "        document.querySelector('#df-190a90fb-cf6d-4ad4-83b3-0d254506fd4e button');\n",
              "      quickchartButtonEl.style.display =\n",
              "        google.colab.kernel.accessAllowed ? 'block' : 'none';\n",
              "    })();\n",
              "  </script>\n",
              "</div>\n",
              "    </div>\n",
              "  </div>\n"
            ]
          },
          "metadata": {},
          "execution_count": 32
        }
      ]
    },
    {
      "cell_type": "markdown",
      "source": [
        "### Pre-Processing"
      ],
      "metadata": {
        "id": "7zR-oCtKPlDY"
      }
    },
    {
      "cell_type": "markdown",
      "source": [
        "#### Remove Punctuation"
      ],
      "metadata": {
        "id": "jf2iToWAPoIa"
      }
    },
    {
      "cell_type": "code",
      "source": [
        "from string import punctuation\n",
        "\n",
        "punctuation += '؛؟ُ،ًٌٍَُِّْــ'\n",
        "punctuation"
      ],
      "metadata": {
        "colab": {
          "base_uri": "https://localhost:8080/",
          "height": 36
        },
        "id": "OQgqD4lJWjq1",
        "outputId": "8c244e3f-7d2c-488b-e8bf-57a5b65e2108"
      },
      "execution_count": null,
      "outputs": [
        {
          "output_type": "execute_result",
          "data": {
            "text/plain": [
              "'!\"#$%&\\'()*+,-./:;<=>?@[\\\\]^_`{|}~؛؟ُ،ًٌٍَُِّْــ'"
            ],
            "application/vnd.google.colaboratory.intrinsic+json": {
              "type": "string"
            }
          },
          "metadata": {},
          "execution_count": 33
        }
      ]
    },
    {
      "cell_type": "code",
      "source": [
        "def remove_punctuation(sentence: str) -> str:\n",
        "    return sentence.translate(str.maketrans('', '', punctuation))"
      ],
      "metadata": {
        "id": "0il0jzVdW0_S"
      },
      "execution_count": null,
      "outputs": []
    },
    {
      "cell_type": "markdown",
      "source": [
        "#### Remove Persian Stop Words"
      ],
      "metadata": {
        "id": "FqCH6CX_PtqD"
      }
    },
    {
      "cell_type": "code",
      "source": [
        "stop = np.load('/content/drive/MyDrive/Colab Notebooks/Hekaton/stopwords.npy')\n",
        "stop"
      ],
      "metadata": {
        "colab": {
          "base_uri": "https://localhost:8080/"
        },
        "id": "J4ee1JpXsY7a",
        "outputId": "84d5f776-7563-4baf-ab17-cd4703c64057"
      },
      "execution_count": null,
      "outputs": [
        {
          "output_type": "execute_result",
          "data": {
            "text/plain": [
              "array(['و', 'در', 'به', 'از', 'که', 'این', 'را', 'با', 'است', 'برای',\n",
              "       'آن', 'یک', 'خود', 'تا', 'کرد', 'بر', 'هم', 'نیز', 'گفت',\n",
              "       'می\\u200cشود', 'وی', 'شد', 'دارد', 'ما', 'اما', 'یا', 'شده',\n",
              "       'باید', 'هر', 'آنها', 'بود', 'او', 'دیگر', 'دو', 'مورد',\n",
              "       'می\\u200cکند', 'شود', 'کند', 'وجود', 'بین', 'پیش', 'شده_است', 'پس',\n",
              "       'نظر', 'اگر', 'همه', 'یکی', 'حال', 'هستند', 'من', 'کنند', 'نیست',\n",
              "       'باشد', 'چه', 'بی', 'می', 'بخش', 'می\\u200cکنند', 'همین', 'افزود',\n",
              "       'هایی', 'دارند', 'راه', 'همچنین', 'روی', 'داد', 'بیشتر', 'بسیار',\n",
              "       'سه', 'داشت', 'چند', 'سوی', 'تنها', 'هیچ', 'میان', 'اینکه', 'شدن',\n",
              "       'بعد', 'جدید', 'ولی', 'حتی', 'کردن', 'برخی', 'کردند',\n",
              "       'می\\u200cدهد', 'اول', 'نه', 'کرده_است', 'نسبت', 'بیش', 'شما',\n",
              "       'چنین', 'طور', 'افراد', 'تمام', 'درباره', 'بار', 'بسیاری',\n",
              "       'می\\u200cتواند', 'کرده', 'چون', 'ندارد', 'دوم', 'بزرگ', 'طی',\n",
              "       'حدود', 'همان', 'بدون', 'البته', 'آنان', 'می\\u200cگوید', 'دیگری',\n",
              "       'خواهد_شد', 'کنیم', 'قابل', 'یعنی', 'رشد', 'می\\u200cتوان', 'وارد',\n",
              "       'کل', 'ویژه', 'قبل', 'براساس', 'نیاز', 'گذاری', 'هنوز', 'لازم',\n",
              "       'سازی', 'بوده_است', 'چرا', 'می\\u200cشوند', 'وقتی', 'گرفت', 'کم',\n",
              "       'جای', 'حالی', 'تغییر', 'پیدا', 'اکنون', 'تحت', 'باعث', 'مدت',\n",
              "       'فقط', 'زیادی', 'تعداد', 'آیا', 'بیان', 'رو', 'شدند', 'عدم',\n",
              "       'کرده_اند', 'بودن', 'نوع', 'بلکه', 'جاری', 'دهد', 'برابر', 'مهم',\n",
              "       'بوده', 'اخیر', 'مربوط', 'امر', 'زیر', 'گیری', 'شاید', 'خصوص',\n",
              "       'آقای', 'اثر', 'کننده', 'بودند', 'فکر', 'کنار', 'اولین', 'سوم',\n",
              "       'سایر', 'کنید', 'ضمن', 'مانند', 'باز', 'می\\u200cگیرد', 'ممکن',\n",
              "       'حل', 'دارای', 'پی', 'مثل', 'می\\u200cرسد', 'اجرا', 'دور', 'منظور',\n",
              "       'کسی', 'موجب', 'طول', 'امکان', 'آنچه', 'تعیین', 'گفته', 'شوند',\n",
              "       'جمع', 'خیلی', 'علاوه', 'گونه', 'تاکنون', 'رسید', 'ساله', 'گرفته',\n",
              "       'شده_اند', 'علت', 'چهار', 'داشته_باشد', 'خواهد_بود', 'طرف', 'تهیه',\n",
              "       'تبدیل', 'مناسب', 'زیرا', 'مشخص', 'می\\u200cتوانند', 'نزدیک',\n",
              "       'جریان', 'روند', 'بنابراین', 'می\\u200cدهند', 'یافت', 'نخستین',\n",
              "       'بالا', 'پنج', 'ریزی', 'عالی', 'چیزی', 'نخست', 'بیشتری', 'ترتیب',\n",
              "       'شده_بود', 'خاص', 'خوبی', 'خوب', 'شروع', 'فرد', 'کامل', 'غیر',\n",
              "       'می\\u200cرود', 'دهند', 'آخرین', 'دادن', 'جدی', 'بهترین', 'شامل',\n",
              "       'گیرد', 'بخشی', 'باشند', 'تمامی', 'بهتر', 'داده_است', 'حد', 'نبود',\n",
              "       'کسانی', 'می\\u200cکرد', 'داریم', 'علیه', 'می\\u200cباشد', 'دانست',\n",
              "       'ناشی', 'داشتند', 'دهه', 'می\\u200cشد', 'ایشان', 'آنجا',\n",
              "       'گرفته_است', 'دچار', 'می\\u200cآید', 'لحاظ', 'آنکه', 'داده', 'بعضی',\n",
              "       'هستیم', 'اند', 'برداری', 'نباید', 'می\\u200cکنیم', 'نشست', 'سهم',\n",
              "       'همیشه', 'آمد', 'اش', 'وگو', 'می\\u200cکنم', 'حداقل', 'طبق', 'جا',\n",
              "       'خواهد_کرد', 'نوعی', 'چگونه', 'رفت', 'هنگام', 'فوق', 'روش',\n",
              "       'ندارند', 'سعی', 'بندی', 'شمار', 'کلی', 'کافی', 'مواجه', 'همچنان',\n",
              "       'زیاد', 'سمت', 'کوچک', 'داشته_است', 'چیز', 'پشت', 'آورد', 'حالا',\n",
              "       'روبه', 'سال\\u200cهای', 'دادند', 'می\\u200cکردند', 'عهده', 'نیمه',\n",
              "       'جایی', 'دیگران', 'سی', 'بروز', 'یکدیگر', 'آمده_است', 'جز', 'کنم',\n",
              "       'سپس', 'کنندگان', 'خودش', 'همواره', 'یافته', 'شان', 'صرف',\n",
              "       'نمی\\u200cشود', 'رسیدن', 'چهارم', 'یابد', 'متر', 'ساز', 'داشته',\n",
              "       'کرده_بود', 'باره', 'نحوه', 'کردم', 'تو', 'شخصی', 'داشته_باشند',\n",
              "       'محسوب', 'پخش', 'کمی', 'متفاوت', 'سراسر', 'کاملا', 'داشتن', 'نظیر',\n",
              "       'آمده', 'گروهی', 'فردی', 'ع', 'همچون', 'خطر', 'خویش', 'کدام',\n",
              "       'دسته', 'سبب', 'عین', 'آوری', 'متاسفانه', 'بیرون', 'دار', 'ابتدا',\n",
              "       'شش', 'افرادی', 'می\\u200cگویند', 'سالهای', 'درون', 'نیستند',\n",
              "       'یافته_است', 'پر', 'خاطرنشان', 'گاه', 'جمعی', 'اغلب', 'دوباره',\n",
              "       'می\\u200cیابد', 'لذا', 'زاده', 'گردد', 'اینجا'], dtype='<U11')"
            ]
          },
          "metadata": {},
          "execution_count": 35
        }
      ]
    },
    {
      "cell_type": "code",
      "source": [
        "print(stop[19])"
      ],
      "metadata": {
        "colab": {
          "base_uri": "https://localhost:8080/"
        },
        "id": "oB8rIUIqGnhf",
        "outputId": "a1ced75c-2d0a-42e5-c50f-9570dbc34f16"
      },
      "execution_count": null,
      "outputs": [
        {
          "output_type": "stream",
          "name": "stdout",
          "text": [
            "می‌شود\n"
          ]
        }
      ]
    },
    {
      "cell_type": "code",
      "source": [
        "def remove_stopwords(text):\n",
        "    text = ' '.join([i for i in text.lower().split(' ') if i not in stop])\n",
        "    return text"
      ],
      "metadata": {
        "id": "E6j-jwjEr7Kw"
      },
      "execution_count": null,
      "outputs": []
    },
    {
      "cell_type": "markdown",
      "source": [
        "#### Apply Pre-Processing Part"
      ],
      "metadata": {
        "id": "-OxEq4pIP0QJ"
      }
    },
    {
      "cell_type": "code",
      "source": [
        "\n",
        "train['title'] = train['title'].apply(remove_stopwords)\n",
        "train['title'] = train['title'].apply(lambda x:x.replace('\\u200c', ''))\n",
        "train['title'] = train['title'].apply(remove_punctuation)\n",
        "\n",
        "train['description'] = train['description'].apply(remove_stopwords)\n",
        "train['description'] = train['description'].apply(lambda x:x.replace('\\u200c', ''))\n",
        "train['description'] = train['description'].apply(remove_punctuation)"
      ],
      "metadata": {
        "id": "l4onr-FEZc92"
      },
      "execution_count": null,
      "outputs": []
    },
    {
      "cell_type": "code",
      "source": [
        "train.head()"
      ],
      "metadata": {
        "colab": {
          "base_uri": "https://localhost:8080/",
          "height": 206
        },
        "id": "irtB9XOpZxSD",
        "outputId": "ffce3ed1-3948-464b-a27f-de094b5adab3"
      },
      "execution_count": null,
      "outputs": [
        {
          "output_type": "execute_result",
          "data": {
            "text/plain": [
              "                                               title  \\\n",
              "0  روایتی تحصیل زیرسقفهای لرزان سرمای سوزان دانشآ...   \n",
              "1  انقلابی سرشناس بحرین گفتوگو تسنیم مردم منطقه پ...   \n",
              "2  زندگی مردم شهر قم جریان  پیشگیری اولویت مردم ق...   \n",
              "3  واکنش quotپروفسور کرمیquot دروغپراکنی رسانهها ...   \n",
              "4  مردم نگران تأمین کالاهای موردنیاز نباشند میزان...   \n",
              "\n",
              "                                         description           tags  \n",
              "0  گروه استانها دانشآموزان مدرسه روستای کهنانیکش ...  ایران_استانها  \n",
              "1  گروه استانها  انقلابی سرشناس بحرین مردم منطقه ...  ایران_استانها  \n",
              "2  گروه استانها  اعلام شیوع ویروس کرونا شهر قم زن...  ایران_استانها  \n",
              "3  متخصص بیوتکنولوژی پزشکی مرگومیر حاصل کرونا بهم...        اجتماعی  \n",
              "4  رئیس اتحادیه فروشگاههای زنجیرهای اشاره خرید ان...        اقتصادی  "
            ],
            "text/html": [
              "\n",
              "  <div id=\"df-75681d04-950d-4c81-abfb-80bb82a40e28\" class=\"colab-df-container\">\n",
              "    <div>\n",
              "<style scoped>\n",
              "    .dataframe tbody tr th:only-of-type {\n",
              "        vertical-align: middle;\n",
              "    }\n",
              "\n",
              "    .dataframe tbody tr th {\n",
              "        vertical-align: top;\n",
              "    }\n",
              "\n",
              "    .dataframe thead th {\n",
              "        text-align: right;\n",
              "    }\n",
              "</style>\n",
              "<table border=\"1\" class=\"dataframe\">\n",
              "  <thead>\n",
              "    <tr style=\"text-align: right;\">\n",
              "      <th></th>\n",
              "      <th>title</th>\n",
              "      <th>description</th>\n",
              "      <th>tags</th>\n",
              "    </tr>\n",
              "  </thead>\n",
              "  <tbody>\n",
              "    <tr>\n",
              "      <th>0</th>\n",
              "      <td>روایتی تحصیل زیرسقفهای لرزان سرمای سوزان دانشآ...</td>\n",
              "      <td>گروه استانها دانشآموزان مدرسه روستای کهنانیکش ...</td>\n",
              "      <td>ایران_استانها</td>\n",
              "    </tr>\n",
              "    <tr>\n",
              "      <th>1</th>\n",
              "      <td>انقلابی سرشناس بحرین گفتوگو تسنیم مردم منطقه پ...</td>\n",
              "      <td>گروه استانها  انقلابی سرشناس بحرین مردم منطقه ...</td>\n",
              "      <td>ایران_استانها</td>\n",
              "    </tr>\n",
              "    <tr>\n",
              "      <th>2</th>\n",
              "      <td>زندگی مردم شهر قم جریان  پیشگیری اولویت مردم ق...</td>\n",
              "      <td>گروه استانها  اعلام شیوع ویروس کرونا شهر قم زن...</td>\n",
              "      <td>ایران_استانها</td>\n",
              "    </tr>\n",
              "    <tr>\n",
              "      <th>3</th>\n",
              "      <td>واکنش quotپروفسور کرمیquot دروغپراکنی رسانهها ...</td>\n",
              "      <td>متخصص بیوتکنولوژی پزشکی مرگومیر حاصل کرونا بهم...</td>\n",
              "      <td>اجتماعی</td>\n",
              "    </tr>\n",
              "    <tr>\n",
              "      <th>4</th>\n",
              "      <td>مردم نگران تأمین کالاهای موردنیاز نباشند میزان...</td>\n",
              "      <td>رئیس اتحادیه فروشگاههای زنجیرهای اشاره خرید ان...</td>\n",
              "      <td>اقتصادی</td>\n",
              "    </tr>\n",
              "  </tbody>\n",
              "</table>\n",
              "</div>\n",
              "    <div class=\"colab-df-buttons\">\n",
              "\n",
              "  <div class=\"colab-df-container\">\n",
              "    <button class=\"colab-df-convert\" onclick=\"convertToInteractive('df-75681d04-950d-4c81-abfb-80bb82a40e28')\"\n",
              "            title=\"Convert this dataframe to an interactive table.\"\n",
              "            style=\"display:none;\">\n",
              "\n",
              "  <svg xmlns=\"http://www.w3.org/2000/svg\" height=\"24px\" viewBox=\"0 -960 960 960\">\n",
              "    <path d=\"M120-120v-720h720v720H120Zm60-500h600v-160H180v160Zm220 220h160v-160H400v160Zm0 220h160v-160H400v160ZM180-400h160v-160H180v160Zm440 0h160v-160H620v160ZM180-180h160v-160H180v160Zm440 0h160v-160H620v160Z\"/>\n",
              "  </svg>\n",
              "    </button>\n",
              "\n",
              "  <style>\n",
              "    .colab-df-container {\n",
              "      display:flex;\n",
              "      gap: 12px;\n",
              "    }\n",
              "\n",
              "    .colab-df-convert {\n",
              "      background-color: #E8F0FE;\n",
              "      border: none;\n",
              "      border-radius: 50%;\n",
              "      cursor: pointer;\n",
              "      display: none;\n",
              "      fill: #1967D2;\n",
              "      height: 32px;\n",
              "      padding: 0 0 0 0;\n",
              "      width: 32px;\n",
              "    }\n",
              "\n",
              "    .colab-df-convert:hover {\n",
              "      background-color: #E2EBFA;\n",
              "      box-shadow: 0px 1px 2px rgba(60, 64, 67, 0.3), 0px 1px 3px 1px rgba(60, 64, 67, 0.15);\n",
              "      fill: #174EA6;\n",
              "    }\n",
              "\n",
              "    .colab-df-buttons div {\n",
              "      margin-bottom: 4px;\n",
              "    }\n",
              "\n",
              "    [theme=dark] .colab-df-convert {\n",
              "      background-color: #3B4455;\n",
              "      fill: #D2E3FC;\n",
              "    }\n",
              "\n",
              "    [theme=dark] .colab-df-convert:hover {\n",
              "      background-color: #434B5C;\n",
              "      box-shadow: 0px 1px 3px 1px rgba(0, 0, 0, 0.15);\n",
              "      filter: drop-shadow(0px 1px 2px rgba(0, 0, 0, 0.3));\n",
              "      fill: #FFFFFF;\n",
              "    }\n",
              "  </style>\n",
              "\n",
              "    <script>\n",
              "      const buttonEl =\n",
              "        document.querySelector('#df-75681d04-950d-4c81-abfb-80bb82a40e28 button.colab-df-convert');\n",
              "      buttonEl.style.display =\n",
              "        google.colab.kernel.accessAllowed ? 'block' : 'none';\n",
              "\n",
              "      async function convertToInteractive(key) {\n",
              "        const element = document.querySelector('#df-75681d04-950d-4c81-abfb-80bb82a40e28');\n",
              "        const dataTable =\n",
              "          await google.colab.kernel.invokeFunction('convertToInteractive',\n",
              "                                                    [key], {});\n",
              "        if (!dataTable) return;\n",
              "\n",
              "        const docLinkHtml = 'Like what you see? Visit the ' +\n",
              "          '<a target=\"_blank\" href=https://colab.research.google.com/notebooks/data_table.ipynb>data table notebook</a>'\n",
              "          + ' to learn more about interactive tables.';\n",
              "        element.innerHTML = '';\n",
              "        dataTable['output_type'] = 'display_data';\n",
              "        await google.colab.output.renderOutput(dataTable, element);\n",
              "        const docLink = document.createElement('div');\n",
              "        docLink.innerHTML = docLinkHtml;\n",
              "        element.appendChild(docLink);\n",
              "      }\n",
              "    </script>\n",
              "  </div>\n",
              "\n",
              "\n",
              "<div id=\"df-f4462511-0bb5-4ec3-83b6-e873eeeced40\">\n",
              "  <button class=\"colab-df-quickchart\" onclick=\"quickchart('df-f4462511-0bb5-4ec3-83b6-e873eeeced40')\"\n",
              "            title=\"Suggest charts\"\n",
              "            style=\"display:none;\">\n",
              "\n",
              "<svg xmlns=\"http://www.w3.org/2000/svg\" height=\"24px\"viewBox=\"0 0 24 24\"\n",
              "     width=\"24px\">\n",
              "    <g>\n",
              "        <path d=\"M19 3H5c-1.1 0-2 .9-2 2v14c0 1.1.9 2 2 2h14c1.1 0 2-.9 2-2V5c0-1.1-.9-2-2-2zM9 17H7v-7h2v7zm4 0h-2V7h2v10zm4 0h-2v-4h2v4z\"/>\n",
              "    </g>\n",
              "</svg>\n",
              "  </button>\n",
              "\n",
              "<style>\n",
              "  .colab-df-quickchart {\n",
              "      --bg-color: #E8F0FE;\n",
              "      --fill-color: #1967D2;\n",
              "      --hover-bg-color: #E2EBFA;\n",
              "      --hover-fill-color: #174EA6;\n",
              "      --disabled-fill-color: #AAA;\n",
              "      --disabled-bg-color: #DDD;\n",
              "  }\n",
              "\n",
              "  [theme=dark] .colab-df-quickchart {\n",
              "      --bg-color: #3B4455;\n",
              "      --fill-color: #D2E3FC;\n",
              "      --hover-bg-color: #434B5C;\n",
              "      --hover-fill-color: #FFFFFF;\n",
              "      --disabled-bg-color: #3B4455;\n",
              "      --disabled-fill-color: #666;\n",
              "  }\n",
              "\n",
              "  .colab-df-quickchart {\n",
              "    background-color: var(--bg-color);\n",
              "    border: none;\n",
              "    border-radius: 50%;\n",
              "    cursor: pointer;\n",
              "    display: none;\n",
              "    fill: var(--fill-color);\n",
              "    height: 32px;\n",
              "    padding: 0;\n",
              "    width: 32px;\n",
              "  }\n",
              "\n",
              "  .colab-df-quickchart:hover {\n",
              "    background-color: var(--hover-bg-color);\n",
              "    box-shadow: 0 1px 2px rgba(60, 64, 67, 0.3), 0 1px 3px 1px rgba(60, 64, 67, 0.15);\n",
              "    fill: var(--button-hover-fill-color);\n",
              "  }\n",
              "\n",
              "  .colab-df-quickchart-complete:disabled,\n",
              "  .colab-df-quickchart-complete:disabled:hover {\n",
              "    background-color: var(--disabled-bg-color);\n",
              "    fill: var(--disabled-fill-color);\n",
              "    box-shadow: none;\n",
              "  }\n",
              "\n",
              "  .colab-df-spinner {\n",
              "    border: 2px solid var(--fill-color);\n",
              "    border-color: transparent;\n",
              "    border-bottom-color: var(--fill-color);\n",
              "    animation:\n",
              "      spin 1s steps(1) infinite;\n",
              "  }\n",
              "\n",
              "  @keyframes spin {\n",
              "    0% {\n",
              "      border-color: transparent;\n",
              "      border-bottom-color: var(--fill-color);\n",
              "      border-left-color: var(--fill-color);\n",
              "    }\n",
              "    20% {\n",
              "      border-color: transparent;\n",
              "      border-left-color: var(--fill-color);\n",
              "      border-top-color: var(--fill-color);\n",
              "    }\n",
              "    30% {\n",
              "      border-color: transparent;\n",
              "      border-left-color: var(--fill-color);\n",
              "      border-top-color: var(--fill-color);\n",
              "      border-right-color: var(--fill-color);\n",
              "    }\n",
              "    40% {\n",
              "      border-color: transparent;\n",
              "      border-right-color: var(--fill-color);\n",
              "      border-top-color: var(--fill-color);\n",
              "    }\n",
              "    60% {\n",
              "      border-color: transparent;\n",
              "      border-right-color: var(--fill-color);\n",
              "    }\n",
              "    80% {\n",
              "      border-color: transparent;\n",
              "      border-right-color: var(--fill-color);\n",
              "      border-bottom-color: var(--fill-color);\n",
              "    }\n",
              "    90% {\n",
              "      border-color: transparent;\n",
              "      border-bottom-color: var(--fill-color);\n",
              "    }\n",
              "  }\n",
              "</style>\n",
              "\n",
              "  <script>\n",
              "    async function quickchart(key) {\n",
              "      const quickchartButtonEl =\n",
              "        document.querySelector('#' + key + ' button');\n",
              "      quickchartButtonEl.disabled = true;  // To prevent multiple clicks.\n",
              "      quickchartButtonEl.classList.add('colab-df-spinner');\n",
              "      try {\n",
              "        const charts = await google.colab.kernel.invokeFunction(\n",
              "            'suggestCharts', [key], {});\n",
              "      } catch (error) {\n",
              "        console.error('Error during call to suggestCharts:', error);\n",
              "      }\n",
              "      quickchartButtonEl.classList.remove('colab-df-spinner');\n",
              "      quickchartButtonEl.classList.add('colab-df-quickchart-complete');\n",
              "    }\n",
              "    (() => {\n",
              "      let quickchartButtonEl =\n",
              "        document.querySelector('#df-f4462511-0bb5-4ec3-83b6-e873eeeced40 button');\n",
              "      quickchartButtonEl.style.display =\n",
              "        google.colab.kernel.accessAllowed ? 'block' : 'none';\n",
              "    })();\n",
              "  </script>\n",
              "</div>\n",
              "    </div>\n",
              "  </div>\n"
            ]
          },
          "metadata": {},
          "execution_count": 39
        }
      ]
    },
    {
      "cell_type": "markdown",
      "source": [
        "#### Normalize and Stem Words"
      ],
      "metadata": {
        "id": "TImImBzqP5t8"
      }
    },
    {
      "cell_type": "code",
      "source": [
        "from hazm import Normalizer, Stemmer, Lemmatizer\n",
        "from nltk.stem.porter import PorterStemmer\n",
        "\n",
        "normalizer = Normalizer()\n",
        "lemmatizer = Lemmatizer()"
      ],
      "metadata": {
        "id": "obbG5Do2Zy7O"
      },
      "execution_count": null,
      "outputs": []
    },
    {
      "cell_type": "code",
      "source": [
        "train['title'] = train['title'].apply(normalizer.normalize)\n",
        "train['title'] = train['title'].apply(lemmatizer.lemmatize)\n",
        "\n",
        "train['description'] = train['description'].apply(normalizer.normalize)\n",
        "train['description'] = train['description'].apply(lemmatizer.lemmatize)"
      ],
      "metadata": {
        "id": "7BYf7KhVaMDR"
      },
      "execution_count": null,
      "outputs": []
    },
    {
      "cell_type": "markdown",
      "source": [
        "### TFIDF Vectorized"
      ],
      "metadata": {
        "id": "w8rdggxOQAzc"
      }
    },
    {
      "cell_type": "code",
      "source": [
        "from sklearn.feature_extraction.text import TfidfVectorizer\n",
        "\n",
        "tv_title = TfidfVectorizer(max_features=5000, ngram_range=(1, 2))\n",
        "title = tv_title.fit_transform(train.loc[:,'title'])\n",
        "\n",
        "tv_desc = TfidfVectorizer(max_features=15000, ngram_range=(1, 2))\n",
        "desc = tv_desc.fit_transform(train.loc[:,'description'])"
      ],
      "metadata": {
        "id": "YMP_5FrzreYz"
      },
      "execution_count": null,
      "outputs": []
    },
    {
      "cell_type": "code",
      "source": [
        "print(f\"Title Shape: {title.shape}\")\n",
        "print(f\"Description Shape: {desc.shape}\")"
      ],
      "metadata": {
        "colab": {
          "base_uri": "https://localhost:8080/"
        },
        "id": "ehf7VKPk6TKW",
        "outputId": "f248a9d9-0d3f-4bab-e831-9b1ee3df9590"
      },
      "execution_count": null,
      "outputs": [
        {
          "output_type": "stream",
          "name": "stdout",
          "text": [
            "Title Shape: (10436, 5000)\n",
            "Description Shape: (10436, 15000)\n"
          ]
        }
      ]
    },
    {
      "cell_type": "code",
      "source": [
        "from scipy.sparse import hstack\n",
        "\n",
        "X_train = hstack((title, desc)).toarray()\n",
        "print(X_train.shape)"
      ],
      "metadata": {
        "colab": {
          "base_uri": "https://localhost:8080/"
        },
        "id": "Jx7TbtZy6qw2",
        "outputId": "e2187ae0-dc01-49ef-ca21-4e890bbb3cd4"
      },
      "execution_count": null,
      "outputs": [
        {
          "output_type": "stream",
          "name": "stdout",
          "text": [
            "(10436, 20000)\n"
          ]
        }
      ]
    },
    {
      "cell_type": "markdown",
      "source": [
        "## Read Test set"
      ],
      "metadata": {
        "id": "LuvH0pGhQI-m"
      }
    },
    {
      "cell_type": "code",
      "source": [
        "test = pd.read_csv('test_data.csv')\n",
        "test.head()"
      ],
      "metadata": {
        "colab": {
          "base_uri": "https://localhost:8080/",
          "height": 206
        },
        "id": "zyHSXiVe6791",
        "outputId": "5bacc742-f0d2-48e9-c1ce-daacf850936e"
      },
      "execution_count": null,
      "outputs": [
        {
          "output_type": "execute_result",
          "data": {
            "text/plain": [
              "                                               title  \\\n",
              "0  درگیر شایعات نشوید؛ نتیجه آزمایش افراد مشکوک ب...   \n",
              "1  تخریب منازل «علی‌آباد» خرم‌آباد در پی بارش بار...   \n",
              "2  ‌اختصاصی| قرنطینه آیت‌الله شبیری‌زنجانی صحت ند...   \n",
              "3  احتمال طغیان رودخانه‌های غرب کشور/ کاهش شدت با...   \n",
              "4  تحویل طومار مردم تهران برای پیگرد عاملان ترور ...   \n",
              "\n",
              "                                         description  \n",
              "0  گروه استان‌ها- رئیس دانشگاه علوم پزشکی استان ا...  \n",
              "1  گروه استان‌ها ـبارش‌های سیل‌آسا که از روز گذشت...  \n",
              "2  گروه استان‌ها ـ مسئول دفتر آیت الله شبیری زنجا...  \n",
              "3  رئیس سازمان هواشناسی از احتمال طغیان اغلب رودخ...  \n",
              "4  طومار امضا شده توسط هزاران تن از مردم تهران در...  "
            ],
            "text/html": [
              "\n",
              "  <div id=\"df-1a4378c1-3b51-42ea-a254-89c6b6f63731\" class=\"colab-df-container\">\n",
              "    <div>\n",
              "<style scoped>\n",
              "    .dataframe tbody tr th:only-of-type {\n",
              "        vertical-align: middle;\n",
              "    }\n",
              "\n",
              "    .dataframe tbody tr th {\n",
              "        vertical-align: top;\n",
              "    }\n",
              "\n",
              "    .dataframe thead th {\n",
              "        text-align: right;\n",
              "    }\n",
              "</style>\n",
              "<table border=\"1\" class=\"dataframe\">\n",
              "  <thead>\n",
              "    <tr style=\"text-align: right;\">\n",
              "      <th></th>\n",
              "      <th>title</th>\n",
              "      <th>description</th>\n",
              "    </tr>\n",
              "  </thead>\n",
              "  <tbody>\n",
              "    <tr>\n",
              "      <th>0</th>\n",
              "      <td>درگیر شایعات نشوید؛ نتیجه آزمایش افراد مشکوک ب...</td>\n",
              "      <td>گروه استان‌ها- رئیس دانشگاه علوم پزشکی استان ا...</td>\n",
              "    </tr>\n",
              "    <tr>\n",
              "      <th>1</th>\n",
              "      <td>تخریب منازل «علی‌آباد» خرم‌آباد در پی بارش بار...</td>\n",
              "      <td>گروه استان‌ها ـبارش‌های سیل‌آسا که از روز گذشت...</td>\n",
              "    </tr>\n",
              "    <tr>\n",
              "      <th>2</th>\n",
              "      <td>‌اختصاصی| قرنطینه آیت‌الله شبیری‌زنجانی صحت ند...</td>\n",
              "      <td>گروه استان‌ها ـ مسئول دفتر آیت الله شبیری زنجا...</td>\n",
              "    </tr>\n",
              "    <tr>\n",
              "      <th>3</th>\n",
              "      <td>احتمال طغیان رودخانه‌های غرب کشور/ کاهش شدت با...</td>\n",
              "      <td>رئیس سازمان هواشناسی از احتمال طغیان اغلب رودخ...</td>\n",
              "    </tr>\n",
              "    <tr>\n",
              "      <th>4</th>\n",
              "      <td>تحویل طومار مردم تهران برای پیگرد عاملان ترور ...</td>\n",
              "      <td>طومار امضا شده توسط هزاران تن از مردم تهران در...</td>\n",
              "    </tr>\n",
              "  </tbody>\n",
              "</table>\n",
              "</div>\n",
              "    <div class=\"colab-df-buttons\">\n",
              "\n",
              "  <div class=\"colab-df-container\">\n",
              "    <button class=\"colab-df-convert\" onclick=\"convertToInteractive('df-1a4378c1-3b51-42ea-a254-89c6b6f63731')\"\n",
              "            title=\"Convert this dataframe to an interactive table.\"\n",
              "            style=\"display:none;\">\n",
              "\n",
              "  <svg xmlns=\"http://www.w3.org/2000/svg\" height=\"24px\" viewBox=\"0 -960 960 960\">\n",
              "    <path d=\"M120-120v-720h720v720H120Zm60-500h600v-160H180v160Zm220 220h160v-160H400v160Zm0 220h160v-160H400v160ZM180-400h160v-160H180v160Zm440 0h160v-160H620v160ZM180-180h160v-160H180v160Zm440 0h160v-160H620v160Z\"/>\n",
              "  </svg>\n",
              "    </button>\n",
              "\n",
              "  <style>\n",
              "    .colab-df-container {\n",
              "      display:flex;\n",
              "      gap: 12px;\n",
              "    }\n",
              "\n",
              "    .colab-df-convert {\n",
              "      background-color: #E8F0FE;\n",
              "      border: none;\n",
              "      border-radius: 50%;\n",
              "      cursor: pointer;\n",
              "      display: none;\n",
              "      fill: #1967D2;\n",
              "      height: 32px;\n",
              "      padding: 0 0 0 0;\n",
              "      width: 32px;\n",
              "    }\n",
              "\n",
              "    .colab-df-convert:hover {\n",
              "      background-color: #E2EBFA;\n",
              "      box-shadow: 0px 1px 2px rgba(60, 64, 67, 0.3), 0px 1px 3px 1px rgba(60, 64, 67, 0.15);\n",
              "      fill: #174EA6;\n",
              "    }\n",
              "\n",
              "    .colab-df-buttons div {\n",
              "      margin-bottom: 4px;\n",
              "    }\n",
              "\n",
              "    [theme=dark] .colab-df-convert {\n",
              "      background-color: #3B4455;\n",
              "      fill: #D2E3FC;\n",
              "    }\n",
              "\n",
              "    [theme=dark] .colab-df-convert:hover {\n",
              "      background-color: #434B5C;\n",
              "      box-shadow: 0px 1px 3px 1px rgba(0, 0, 0, 0.15);\n",
              "      filter: drop-shadow(0px 1px 2px rgba(0, 0, 0, 0.3));\n",
              "      fill: #FFFFFF;\n",
              "    }\n",
              "  </style>\n",
              "\n",
              "    <script>\n",
              "      const buttonEl =\n",
              "        document.querySelector('#df-1a4378c1-3b51-42ea-a254-89c6b6f63731 button.colab-df-convert');\n",
              "      buttonEl.style.display =\n",
              "        google.colab.kernel.accessAllowed ? 'block' : 'none';\n",
              "\n",
              "      async function convertToInteractive(key) {\n",
              "        const element = document.querySelector('#df-1a4378c1-3b51-42ea-a254-89c6b6f63731');\n",
              "        const dataTable =\n",
              "          await google.colab.kernel.invokeFunction('convertToInteractive',\n",
              "                                                    [key], {});\n",
              "        if (!dataTable) return;\n",
              "\n",
              "        const docLinkHtml = 'Like what you see? Visit the ' +\n",
              "          '<a target=\"_blank\" href=https://colab.research.google.com/notebooks/data_table.ipynb>data table notebook</a>'\n",
              "          + ' to learn more about interactive tables.';\n",
              "        element.innerHTML = '';\n",
              "        dataTable['output_type'] = 'display_data';\n",
              "        await google.colab.output.renderOutput(dataTable, element);\n",
              "        const docLink = document.createElement('div');\n",
              "        docLink.innerHTML = docLinkHtml;\n",
              "        element.appendChild(docLink);\n",
              "      }\n",
              "    </script>\n",
              "  </div>\n",
              "\n",
              "\n",
              "<div id=\"df-6468eeb8-d287-4c59-a3c8-807b6bfb64bc\">\n",
              "  <button class=\"colab-df-quickchart\" onclick=\"quickchart('df-6468eeb8-d287-4c59-a3c8-807b6bfb64bc')\"\n",
              "            title=\"Suggest charts\"\n",
              "            style=\"display:none;\">\n",
              "\n",
              "<svg xmlns=\"http://www.w3.org/2000/svg\" height=\"24px\"viewBox=\"0 0 24 24\"\n",
              "     width=\"24px\">\n",
              "    <g>\n",
              "        <path d=\"M19 3H5c-1.1 0-2 .9-2 2v14c0 1.1.9 2 2 2h14c1.1 0 2-.9 2-2V5c0-1.1-.9-2-2-2zM9 17H7v-7h2v7zm4 0h-2V7h2v10zm4 0h-2v-4h2v4z\"/>\n",
              "    </g>\n",
              "</svg>\n",
              "  </button>\n",
              "\n",
              "<style>\n",
              "  .colab-df-quickchart {\n",
              "      --bg-color: #E8F0FE;\n",
              "      --fill-color: #1967D2;\n",
              "      --hover-bg-color: #E2EBFA;\n",
              "      --hover-fill-color: #174EA6;\n",
              "      --disabled-fill-color: #AAA;\n",
              "      --disabled-bg-color: #DDD;\n",
              "  }\n",
              "\n",
              "  [theme=dark] .colab-df-quickchart {\n",
              "      --bg-color: #3B4455;\n",
              "      --fill-color: #D2E3FC;\n",
              "      --hover-bg-color: #434B5C;\n",
              "      --hover-fill-color: #FFFFFF;\n",
              "      --disabled-bg-color: #3B4455;\n",
              "      --disabled-fill-color: #666;\n",
              "  }\n",
              "\n",
              "  .colab-df-quickchart {\n",
              "    background-color: var(--bg-color);\n",
              "    border: none;\n",
              "    border-radius: 50%;\n",
              "    cursor: pointer;\n",
              "    display: none;\n",
              "    fill: var(--fill-color);\n",
              "    height: 32px;\n",
              "    padding: 0;\n",
              "    width: 32px;\n",
              "  }\n",
              "\n",
              "  .colab-df-quickchart:hover {\n",
              "    background-color: var(--hover-bg-color);\n",
              "    box-shadow: 0 1px 2px rgba(60, 64, 67, 0.3), 0 1px 3px 1px rgba(60, 64, 67, 0.15);\n",
              "    fill: var(--button-hover-fill-color);\n",
              "  }\n",
              "\n",
              "  .colab-df-quickchart-complete:disabled,\n",
              "  .colab-df-quickchart-complete:disabled:hover {\n",
              "    background-color: var(--disabled-bg-color);\n",
              "    fill: var(--disabled-fill-color);\n",
              "    box-shadow: none;\n",
              "  }\n",
              "\n",
              "  .colab-df-spinner {\n",
              "    border: 2px solid var(--fill-color);\n",
              "    border-color: transparent;\n",
              "    border-bottom-color: var(--fill-color);\n",
              "    animation:\n",
              "      spin 1s steps(1) infinite;\n",
              "  }\n",
              "\n",
              "  @keyframes spin {\n",
              "    0% {\n",
              "      border-color: transparent;\n",
              "      border-bottom-color: var(--fill-color);\n",
              "      border-left-color: var(--fill-color);\n",
              "    }\n",
              "    20% {\n",
              "      border-color: transparent;\n",
              "      border-left-color: var(--fill-color);\n",
              "      border-top-color: var(--fill-color);\n",
              "    }\n",
              "    30% {\n",
              "      border-color: transparent;\n",
              "      border-left-color: var(--fill-color);\n",
              "      border-top-color: var(--fill-color);\n",
              "      border-right-color: var(--fill-color);\n",
              "    }\n",
              "    40% {\n",
              "      border-color: transparent;\n",
              "      border-right-color: var(--fill-color);\n",
              "      border-top-color: var(--fill-color);\n",
              "    }\n",
              "    60% {\n",
              "      border-color: transparent;\n",
              "      border-right-color: var(--fill-color);\n",
              "    }\n",
              "    80% {\n",
              "      border-color: transparent;\n",
              "      border-right-color: var(--fill-color);\n",
              "      border-bottom-color: var(--fill-color);\n",
              "    }\n",
              "    90% {\n",
              "      border-color: transparent;\n",
              "      border-bottom-color: var(--fill-color);\n",
              "    }\n",
              "  }\n",
              "</style>\n",
              "\n",
              "  <script>\n",
              "    async function quickchart(key) {\n",
              "      const quickchartButtonEl =\n",
              "        document.querySelector('#' + key + ' button');\n",
              "      quickchartButtonEl.disabled = true;  // To prevent multiple clicks.\n",
              "      quickchartButtonEl.classList.add('colab-df-spinner');\n",
              "      try {\n",
              "        const charts = await google.colab.kernel.invokeFunction(\n",
              "            'suggestCharts', [key], {});\n",
              "      } catch (error) {\n",
              "        console.error('Error during call to suggestCharts:', error);\n",
              "      }\n",
              "      quickchartButtonEl.classList.remove('colab-df-spinner');\n",
              "      quickchartButtonEl.classList.add('colab-df-quickchart-complete');\n",
              "    }\n",
              "    (() => {\n",
              "      let quickchartButtonEl =\n",
              "        document.querySelector('#df-6468eeb8-d287-4c59-a3c8-807b6bfb64bc button');\n",
              "      quickchartButtonEl.style.display =\n",
              "        google.colab.kernel.accessAllowed ? 'block' : 'none';\n",
              "    })();\n",
              "  </script>\n",
              "</div>\n",
              "    </div>\n",
              "  </div>\n"
            ]
          },
          "metadata": {},
          "execution_count": 45
        }
      ]
    },
    {
      "cell_type": "code",
      "source": [
        "test.shape"
      ],
      "metadata": {
        "colab": {
          "base_uri": "https://localhost:8080/"
        },
        "id": "7HhJCFaN7pZl",
        "outputId": "0cdaea9a-fc82-4410-c85d-3f57c43f9cfd"
      },
      "execution_count": null,
      "outputs": [
        {
          "output_type": "execute_result",
          "data": {
            "text/plain": [
              "(1000, 2)"
            ]
          },
          "metadata": {},
          "execution_count": 46
        }
      ]
    },
    {
      "cell_type": "markdown",
      "source": [
        "### Pre-Processing for Test set"
      ],
      "metadata": {
        "id": "j1oO7OPHQOIC"
      }
    },
    {
      "cell_type": "code",
      "source": [
        "\n",
        "test['title'] = test['title'].apply(remove_stopwords)\n",
        "test['title'] = test['title'].apply(lambda x:x.replace('\\u200c', ''))\n",
        "test['title'] = test['title'].apply(remove_punctuation)\n",
        "\n",
        "test['description'] = test['description'].apply(remove_stopwords)\n",
        "test['description'] = test['description'].apply(lambda x:x.replace('\\u200c', ''))\n",
        "test['description'] = test['description'].apply(remove_punctuation)"
      ],
      "metadata": {
        "id": "Drh4-6Ho7sRu"
      },
      "execution_count": null,
      "outputs": []
    },
    {
      "cell_type": "code",
      "source": [
        "test['title'] = test['title'].apply(normalizer.normalize)\n",
        "test['title'] = test['title'].apply(lemmatizer.lemmatize)\n",
        "\n",
        "test['description'] = test['description'].apply(normalizer.normalize)\n",
        "test['description'] = test['description'].apply(lemmatizer.lemmatize)"
      ],
      "metadata": {
        "id": "ke2VaAtT7_rl"
      },
      "execution_count": null,
      "outputs": []
    },
    {
      "cell_type": "code",
      "source": [
        "title = tv_title.transform(test.loc[:,'title'])\n",
        "desc = tv_desc.transform(test.loc[:,'description'])\n",
        "\n",
        "X_test = hstack((title, desc)).toarray()\n",
        "print(X_test.shape)"
      ],
      "metadata": {
        "colab": {
          "base_uri": "https://localhost:8080/"
        },
        "id": "2LH1Gjlq8Icb",
        "outputId": "6dc8b741-f41d-4349-afe5-5b93bd757f7e"
      },
      "execution_count": null,
      "outputs": [
        {
          "output_type": "stream",
          "name": "stdout",
          "text": [
            "(1000, 20000)\n"
          ]
        }
      ]
    },
    {
      "cell_type": "markdown",
      "source": [
        "## Change Order of Tags Column"
      ],
      "metadata": {
        "id": "Xl5lwjR-QVoh"
      }
    },
    {
      "cell_type": "code",
      "source": [
        "from pandas.api.types import CategoricalDtype\n",
        "\n",
        "tags_type = CategoricalDtype(news_tags, ordered=True)\n",
        "train['tags'] = train['tags'].astype(tags_type)\n",
        "y_train = pd.get_dummies(train['tags']).values"
      ],
      "metadata": {
        "id": "uFpGOSq29DkX"
      },
      "execution_count": null,
      "outputs": []
    },
    {
      "cell_type": "code",
      "source": [
        "print(X_train.shape)\n",
        "print(X_test.shape)\n",
        "print(y_train.shape)"
      ],
      "metadata": {
        "colab": {
          "base_uri": "https://localhost:8080/"
        },
        "id": "uKIuOzTS9SZe",
        "outputId": "1a17a28d-9dbe-4ee6-be28-95116ad3a82f"
      },
      "execution_count": null,
      "outputs": [
        {
          "output_type": "stream",
          "name": "stdout",
          "text": [
            "(10436, 20000)\n",
            "(1000, 20000)\n",
            "(10436, 6)\n"
          ]
        }
      ]
    },
    {
      "cell_type": "code",
      "source": [
        "pd.get_dummies(train['tags'])"
      ],
      "metadata": {
        "colab": {
          "base_uri": "https://localhost:8080/",
          "height": 423
        },
        "id": "b8ttPb6wSgjB",
        "outputId": "d8a06c17-15e2-47ab-b33d-72a8d6a187c5"
      },
      "execution_count": null,
      "outputs": [
        {
          "output_type": "execute_result",
          "data": {
            "text/plain": [
              "       اجتماعی  اقتصادی  ایران_استانها  بین الملل  سیاسی  علمی_فرهنگی_ورزشی\n",
              "0            0        0              1          0      0                  0\n",
              "1            0        0              1          0      0                  0\n",
              "2            0        0              1          0      0                  0\n",
              "3            1        0              0          0      0                  0\n",
              "4            0        1              0          0      0                  0\n",
              "...        ...      ...            ...        ...    ...                ...\n",
              "12429        0        0              1          0      0                  0\n",
              "12441        0        0              0          0      1                  0\n",
              "12447        1        0              0          0      0                  0\n",
              "12452        0        0              0          0      1                  0\n",
              "12453        0        0              0          0      1                  0\n",
              "\n",
              "[10436 rows x 6 columns]"
            ],
            "text/html": [
              "\n",
              "  <div id=\"df-65ca6dca-6444-4d51-b727-426f10f073bd\" class=\"colab-df-container\">\n",
              "    <div>\n",
              "<style scoped>\n",
              "    .dataframe tbody tr th:only-of-type {\n",
              "        vertical-align: middle;\n",
              "    }\n",
              "\n",
              "    .dataframe tbody tr th {\n",
              "        vertical-align: top;\n",
              "    }\n",
              "\n",
              "    .dataframe thead th {\n",
              "        text-align: right;\n",
              "    }\n",
              "</style>\n",
              "<table border=\"1\" class=\"dataframe\">\n",
              "  <thead>\n",
              "    <tr style=\"text-align: right;\">\n",
              "      <th></th>\n",
              "      <th>اجتماعی</th>\n",
              "      <th>اقتصادی</th>\n",
              "      <th>ایران_استانها</th>\n",
              "      <th>بین الملل</th>\n",
              "      <th>سیاسی</th>\n",
              "      <th>علمی_فرهنگی_ورزشی</th>\n",
              "    </tr>\n",
              "  </thead>\n",
              "  <tbody>\n",
              "    <tr>\n",
              "      <th>0</th>\n",
              "      <td>0</td>\n",
              "      <td>0</td>\n",
              "      <td>1</td>\n",
              "      <td>0</td>\n",
              "      <td>0</td>\n",
              "      <td>0</td>\n",
              "    </tr>\n",
              "    <tr>\n",
              "      <th>1</th>\n",
              "      <td>0</td>\n",
              "      <td>0</td>\n",
              "      <td>1</td>\n",
              "      <td>0</td>\n",
              "      <td>0</td>\n",
              "      <td>0</td>\n",
              "    </tr>\n",
              "    <tr>\n",
              "      <th>2</th>\n",
              "      <td>0</td>\n",
              "      <td>0</td>\n",
              "      <td>1</td>\n",
              "      <td>0</td>\n",
              "      <td>0</td>\n",
              "      <td>0</td>\n",
              "    </tr>\n",
              "    <tr>\n",
              "      <th>3</th>\n",
              "      <td>1</td>\n",
              "      <td>0</td>\n",
              "      <td>0</td>\n",
              "      <td>0</td>\n",
              "      <td>0</td>\n",
              "      <td>0</td>\n",
              "    </tr>\n",
              "    <tr>\n",
              "      <th>4</th>\n",
              "      <td>0</td>\n",
              "      <td>1</td>\n",
              "      <td>0</td>\n",
              "      <td>0</td>\n",
              "      <td>0</td>\n",
              "      <td>0</td>\n",
              "    </tr>\n",
              "    <tr>\n",
              "      <th>...</th>\n",
              "      <td>...</td>\n",
              "      <td>...</td>\n",
              "      <td>...</td>\n",
              "      <td>...</td>\n",
              "      <td>...</td>\n",
              "      <td>...</td>\n",
              "    </tr>\n",
              "    <tr>\n",
              "      <th>12429</th>\n",
              "      <td>0</td>\n",
              "      <td>0</td>\n",
              "      <td>1</td>\n",
              "      <td>0</td>\n",
              "      <td>0</td>\n",
              "      <td>0</td>\n",
              "    </tr>\n",
              "    <tr>\n",
              "      <th>12441</th>\n",
              "      <td>0</td>\n",
              "      <td>0</td>\n",
              "      <td>0</td>\n",
              "      <td>0</td>\n",
              "      <td>1</td>\n",
              "      <td>0</td>\n",
              "    </tr>\n",
              "    <tr>\n",
              "      <th>12447</th>\n",
              "      <td>1</td>\n",
              "      <td>0</td>\n",
              "      <td>0</td>\n",
              "      <td>0</td>\n",
              "      <td>0</td>\n",
              "      <td>0</td>\n",
              "    </tr>\n",
              "    <tr>\n",
              "      <th>12452</th>\n",
              "      <td>0</td>\n",
              "      <td>0</td>\n",
              "      <td>0</td>\n",
              "      <td>0</td>\n",
              "      <td>1</td>\n",
              "      <td>0</td>\n",
              "    </tr>\n",
              "    <tr>\n",
              "      <th>12453</th>\n",
              "      <td>0</td>\n",
              "      <td>0</td>\n",
              "      <td>0</td>\n",
              "      <td>0</td>\n",
              "      <td>1</td>\n",
              "      <td>0</td>\n",
              "    </tr>\n",
              "  </tbody>\n",
              "</table>\n",
              "<p>10436 rows × 6 columns</p>\n",
              "</div>\n",
              "    <div class=\"colab-df-buttons\">\n",
              "\n",
              "  <div class=\"colab-df-container\">\n",
              "    <button class=\"colab-df-convert\" onclick=\"convertToInteractive('df-65ca6dca-6444-4d51-b727-426f10f073bd')\"\n",
              "            title=\"Convert this dataframe to an interactive table.\"\n",
              "            style=\"display:none;\">\n",
              "\n",
              "  <svg xmlns=\"http://www.w3.org/2000/svg\" height=\"24px\" viewBox=\"0 -960 960 960\">\n",
              "    <path d=\"M120-120v-720h720v720H120Zm60-500h600v-160H180v160Zm220 220h160v-160H400v160Zm0 220h160v-160H400v160ZM180-400h160v-160H180v160Zm440 0h160v-160H620v160ZM180-180h160v-160H180v160Zm440 0h160v-160H620v160Z\"/>\n",
              "  </svg>\n",
              "    </button>\n",
              "\n",
              "  <style>\n",
              "    .colab-df-container {\n",
              "      display:flex;\n",
              "      gap: 12px;\n",
              "    }\n",
              "\n",
              "    .colab-df-convert {\n",
              "      background-color: #E8F0FE;\n",
              "      border: none;\n",
              "      border-radius: 50%;\n",
              "      cursor: pointer;\n",
              "      display: none;\n",
              "      fill: #1967D2;\n",
              "      height: 32px;\n",
              "      padding: 0 0 0 0;\n",
              "      width: 32px;\n",
              "    }\n",
              "\n",
              "    .colab-df-convert:hover {\n",
              "      background-color: #E2EBFA;\n",
              "      box-shadow: 0px 1px 2px rgba(60, 64, 67, 0.3), 0px 1px 3px 1px rgba(60, 64, 67, 0.15);\n",
              "      fill: #174EA6;\n",
              "    }\n",
              "\n",
              "    .colab-df-buttons div {\n",
              "      margin-bottom: 4px;\n",
              "    }\n",
              "\n",
              "    [theme=dark] .colab-df-convert {\n",
              "      background-color: #3B4455;\n",
              "      fill: #D2E3FC;\n",
              "    }\n",
              "\n",
              "    [theme=dark] .colab-df-convert:hover {\n",
              "      background-color: #434B5C;\n",
              "      box-shadow: 0px 1px 3px 1px rgba(0, 0, 0, 0.15);\n",
              "      filter: drop-shadow(0px 1px 2px rgba(0, 0, 0, 0.3));\n",
              "      fill: #FFFFFF;\n",
              "    }\n",
              "  </style>\n",
              "\n",
              "    <script>\n",
              "      const buttonEl =\n",
              "        document.querySelector('#df-65ca6dca-6444-4d51-b727-426f10f073bd button.colab-df-convert');\n",
              "      buttonEl.style.display =\n",
              "        google.colab.kernel.accessAllowed ? 'block' : 'none';\n",
              "\n",
              "      async function convertToInteractive(key) {\n",
              "        const element = document.querySelector('#df-65ca6dca-6444-4d51-b727-426f10f073bd');\n",
              "        const dataTable =\n",
              "          await google.colab.kernel.invokeFunction('convertToInteractive',\n",
              "                                                    [key], {});\n",
              "        if (!dataTable) return;\n",
              "\n",
              "        const docLinkHtml = 'Like what you see? Visit the ' +\n",
              "          '<a target=\"_blank\" href=https://colab.research.google.com/notebooks/data_table.ipynb>data table notebook</a>'\n",
              "          + ' to learn more about interactive tables.';\n",
              "        element.innerHTML = '';\n",
              "        dataTable['output_type'] = 'display_data';\n",
              "        await google.colab.output.renderOutput(dataTable, element);\n",
              "        const docLink = document.createElement('div');\n",
              "        docLink.innerHTML = docLinkHtml;\n",
              "        element.appendChild(docLink);\n",
              "      }\n",
              "    </script>\n",
              "  </div>\n",
              "\n",
              "\n",
              "<div id=\"df-b23c1cfa-9c89-45a9-8662-9124f4d12b05\">\n",
              "  <button class=\"colab-df-quickchart\" onclick=\"quickchart('df-b23c1cfa-9c89-45a9-8662-9124f4d12b05')\"\n",
              "            title=\"Suggest charts\"\n",
              "            style=\"display:none;\">\n",
              "\n",
              "<svg xmlns=\"http://www.w3.org/2000/svg\" height=\"24px\"viewBox=\"0 0 24 24\"\n",
              "     width=\"24px\">\n",
              "    <g>\n",
              "        <path d=\"M19 3H5c-1.1 0-2 .9-2 2v14c0 1.1.9 2 2 2h14c1.1 0 2-.9 2-2V5c0-1.1-.9-2-2-2zM9 17H7v-7h2v7zm4 0h-2V7h2v10zm4 0h-2v-4h2v4z\"/>\n",
              "    </g>\n",
              "</svg>\n",
              "  </button>\n",
              "\n",
              "<style>\n",
              "  .colab-df-quickchart {\n",
              "      --bg-color: #E8F0FE;\n",
              "      --fill-color: #1967D2;\n",
              "      --hover-bg-color: #E2EBFA;\n",
              "      --hover-fill-color: #174EA6;\n",
              "      --disabled-fill-color: #AAA;\n",
              "      --disabled-bg-color: #DDD;\n",
              "  }\n",
              "\n",
              "  [theme=dark] .colab-df-quickchart {\n",
              "      --bg-color: #3B4455;\n",
              "      --fill-color: #D2E3FC;\n",
              "      --hover-bg-color: #434B5C;\n",
              "      --hover-fill-color: #FFFFFF;\n",
              "      --disabled-bg-color: #3B4455;\n",
              "      --disabled-fill-color: #666;\n",
              "  }\n",
              "\n",
              "  .colab-df-quickchart {\n",
              "    background-color: var(--bg-color);\n",
              "    border: none;\n",
              "    border-radius: 50%;\n",
              "    cursor: pointer;\n",
              "    display: none;\n",
              "    fill: var(--fill-color);\n",
              "    height: 32px;\n",
              "    padding: 0;\n",
              "    width: 32px;\n",
              "  }\n",
              "\n",
              "  .colab-df-quickchart:hover {\n",
              "    background-color: var(--hover-bg-color);\n",
              "    box-shadow: 0 1px 2px rgba(60, 64, 67, 0.3), 0 1px 3px 1px rgba(60, 64, 67, 0.15);\n",
              "    fill: var(--button-hover-fill-color);\n",
              "  }\n",
              "\n",
              "  .colab-df-quickchart-complete:disabled,\n",
              "  .colab-df-quickchart-complete:disabled:hover {\n",
              "    background-color: var(--disabled-bg-color);\n",
              "    fill: var(--disabled-fill-color);\n",
              "    box-shadow: none;\n",
              "  }\n",
              "\n",
              "  .colab-df-spinner {\n",
              "    border: 2px solid var(--fill-color);\n",
              "    border-color: transparent;\n",
              "    border-bottom-color: var(--fill-color);\n",
              "    animation:\n",
              "      spin 1s steps(1) infinite;\n",
              "  }\n",
              "\n",
              "  @keyframes spin {\n",
              "    0% {\n",
              "      border-color: transparent;\n",
              "      border-bottom-color: var(--fill-color);\n",
              "      border-left-color: var(--fill-color);\n",
              "    }\n",
              "    20% {\n",
              "      border-color: transparent;\n",
              "      border-left-color: var(--fill-color);\n",
              "      border-top-color: var(--fill-color);\n",
              "    }\n",
              "    30% {\n",
              "      border-color: transparent;\n",
              "      border-left-color: var(--fill-color);\n",
              "      border-top-color: var(--fill-color);\n",
              "      border-right-color: var(--fill-color);\n",
              "    }\n",
              "    40% {\n",
              "      border-color: transparent;\n",
              "      border-right-color: var(--fill-color);\n",
              "      border-top-color: var(--fill-color);\n",
              "    }\n",
              "    60% {\n",
              "      border-color: transparent;\n",
              "      border-right-color: var(--fill-color);\n",
              "    }\n",
              "    80% {\n",
              "      border-color: transparent;\n",
              "      border-right-color: var(--fill-color);\n",
              "      border-bottom-color: var(--fill-color);\n",
              "    }\n",
              "    90% {\n",
              "      border-color: transparent;\n",
              "      border-bottom-color: var(--fill-color);\n",
              "    }\n",
              "  }\n",
              "</style>\n",
              "\n",
              "  <script>\n",
              "    async function quickchart(key) {\n",
              "      const quickchartButtonEl =\n",
              "        document.querySelector('#' + key + ' button');\n",
              "      quickchartButtonEl.disabled = true;  // To prevent multiple clicks.\n",
              "      quickchartButtonEl.classList.add('colab-df-spinner');\n",
              "      try {\n",
              "        const charts = await google.colab.kernel.invokeFunction(\n",
              "            'suggestCharts', [key], {});\n",
              "      } catch (error) {\n",
              "        console.error('Error during call to suggestCharts:', error);\n",
              "      }\n",
              "      quickchartButtonEl.classList.remove('colab-df-spinner');\n",
              "      quickchartButtonEl.classList.add('colab-df-quickchart-complete');\n",
              "    }\n",
              "    (() => {\n",
              "      let quickchartButtonEl =\n",
              "        document.querySelector('#df-b23c1cfa-9c89-45a9-8662-9124f4d12b05 button');\n",
              "      quickchartButtonEl.style.display =\n",
              "        google.colab.kernel.accessAllowed ? 'block' : 'none';\n",
              "    })();\n",
              "  </script>\n",
              "</div>\n",
              "    </div>\n",
              "  </div>\n"
            ]
          },
          "metadata": {},
          "execution_count": 52
        }
      ]
    },
    {
      "cell_type": "markdown",
      "source": [
        "## Split Dataset"
      ],
      "metadata": {
        "id": "JwhXxvstQc4w"
      }
    },
    {
      "cell_type": "code",
      "source": [
        "from sklearn.model_selection import train_test_split\n",
        "\n",
        "X_train, X_val, y_train, y_val = train_test_split(X_train, y_train, test_size=0.1, random_state=42)"
      ],
      "metadata": {
        "id": "GsIeoEil-Gyz"
      },
      "execution_count": null,
      "outputs": []
    },
    {
      "cell_type": "code",
      "source": [
        "print(X_train.shape)\n",
        "print(X_val.shape)\n",
        "print(X_test.shape)\n",
        "\n",
        "print(y_train.shape)\n",
        "print(y_val.shape)"
      ],
      "metadata": {
        "colab": {
          "base_uri": "https://localhost:8080/"
        },
        "id": "X_A6oVN8-tcs",
        "outputId": "5f40bb2f-8083-4485-fcfa-091d39d6d82e"
      },
      "execution_count": null,
      "outputs": [
        {
          "output_type": "stream",
          "name": "stdout",
          "text": [
            "(9392, 20000)\n",
            "(1044, 20000)\n",
            "(1000, 20000)\n",
            "(9392, 6)\n",
            "(1044, 6)\n"
          ]
        }
      ]
    },
    {
      "cell_type": "code",
      "source": [
        "del (title, desc,\n",
        "     train, test)"
      ],
      "metadata": {
        "id": "GFOJtncYAT8C"
      },
      "execution_count": null,
      "outputs": []
    },
    {
      "cell_type": "markdown",
      "source": [
        "## ANN Model"
      ],
      "metadata": {
        "id": "UleUBYQMQgTr"
      }
    },
    {
      "cell_type": "code",
      "source": [
        "from tensorflow import keras\n",
        "from keras.layers import Dense, Dropout\n",
        "from keras.models import Sequential\n",
        "\n",
        "model = Sequential(\n",
        "    [\n",
        "        Dense(units=64, input_dim=X_train.shape[-1], activation=\"relu\", name=\"input\"),\n",
        "        Dense(units=64, activation=\"relu\", name=\"layer1\"),\n",
        "        Dropout(0.2),\n",
        "        Dense(units=64, activation=\"relu\", name=\"layer2\"),\n",
        "        Dense(units=64, activation=\"relu\", name=\"layer3\"),\n",
        "        Dropout(0.2),\n",
        "        Dense(units=6, activation=\"softmax\", name=\"output\")\n",
        "    ],\n",
        "    name=\"News_model\"\n",
        ")\n",
        "model.summary()"
      ],
      "metadata": {
        "colab": {
          "base_uri": "https://localhost:8080/"
        },
        "id": "c0RPd6J48edQ",
        "outputId": "7208bdfe-fa33-422e-bee8-c38df67c8fa1"
      },
      "execution_count": null,
      "outputs": [
        {
          "output_type": "stream",
          "name": "stdout",
          "text": [
            "Model: \"News_model\"\n",
            "_________________________________________________________________\n",
            " Layer (type)                Output Shape              Param #   \n",
            "=================================================================\n",
            " input (Dense)               (None, 64)                1280064   \n",
            "                                                                 \n",
            " layer1 (Dense)              (None, 64)                4160      \n",
            "                                                                 \n",
            " dropout (Dropout)           (None, 64)                0         \n",
            "                                                                 \n",
            " layer2 (Dense)              (None, 64)                4160      \n",
            "                                                                 \n",
            " layer3 (Dense)              (None, 64)                4160      \n",
            "                                                                 \n",
            " dropout_1 (Dropout)         (None, 64)                0         \n",
            "                                                                 \n",
            " output (Dense)              (None, 6)                 390       \n",
            "                                                                 \n",
            "=================================================================\n",
            "Total params: 1292934 (4.93 MB)\n",
            "Trainable params: 1292934 (4.93 MB)\n",
            "Non-trainable params: 0 (0.00 Byte)\n",
            "_________________________________________________________________\n"
          ]
        }
      ]
    },
    {
      "cell_type": "code",
      "source": [
        "from keras import utils\n",
        "\n",
        "utils.plot_model(model, show_shapes=True, show_layer_names=False)"
      ],
      "metadata": {
        "colab": {
          "base_uri": "https://localhost:8080/",
          "height": 865
        },
        "id": "i4PPo6XwAuHF",
        "outputId": "ed29ad3c-ce98-4279-b5c2-0312d7248428"
      },
      "execution_count": null,
      "outputs": [
        {
          "output_type": "execute_result",
          "data": {
            "image/png": "[encoded data removed]",
            "text/plain": [
              "<IPython.core.display.Image object>"
            ]
          },
          "metadata": {},
          "execution_count": 57
        }
      ]
    },
    {
      "cell_type": "code",
      "source": [
        "model.compile(optimizer='adam', loss='categorical_crossentropy', metrics=['accuracy'])"
      ],
      "metadata": {
        "id": "6X6WfXybAzfp"
      },
      "execution_count": null,
      "outputs": []
    },
    {
      "cell_type": "code",
      "source": [
        "history = model.fit(X_train, y_train, validation_data=(X_val, y_val), batch_size=64, epochs=10, verbose=2)"
      ],
      "metadata": {
        "colab": {
          "base_uri": "https://localhost:8080/"
        },
        "id": "-wWDaM8KA6jg",
        "outputId": "075ac487-2a93-4ff5-9416-3aa1b9d9687a"
      },
      "execution_count": null,
      "outputs": [
        {
          "output_type": "stream",
          "name": "stdout",
          "text": [
            "Epoch 1/10\n",
            "147/147 - 6s - loss: 1.0540 - accuracy: 0.6218 - val_loss: 0.5106 - val_accuracy: 0.8534 - 6s/epoch - 43ms/step\n",
            "Epoch 2/10\n",
            "147/147 - 1s - loss: 0.2385 - accuracy: 0.9318 - val_loss: 0.4306 - val_accuracy: 0.8669 - 914ms/epoch - 6ms/step\n",
            "Epoch 3/10\n",
            "147/147 - 1s - loss: 0.0501 - accuracy: 0.9878 - val_loss: 0.4904 - val_accuracy: 0.8755 - 929ms/epoch - 6ms/step\n",
            "Epoch 4/10\n",
            "147/147 - 1s - loss: 0.0150 - accuracy: 0.9966 - val_loss: 0.5789 - val_accuracy: 0.8688 - 800ms/epoch - 5ms/step\n",
            "Epoch 5/10\n",
            "147/147 - 1s - loss: 0.0066 - accuracy: 0.9988 - val_loss: 0.6154 - val_accuracy: 0.8764 - 940ms/epoch - 6ms/step\n",
            "Epoch 6/10\n",
            "147/147 - 1s - loss: 0.0039 - accuracy: 0.9989 - val_loss: 0.6583 - val_accuracy: 0.8736 - 936ms/epoch - 6ms/step\n",
            "Epoch 7/10\n",
            "147/147 - 1s - loss: 0.0045 - accuracy: 0.9995 - val_loss: 0.6806 - val_accuracy: 0.8678 - 862ms/epoch - 6ms/step\n",
            "Epoch 8/10\n",
            "147/147 - 1s - loss: 0.0014 - accuracy: 0.9997 - val_loss: 0.7253 - val_accuracy: 0.8716 - 833ms/epoch - 6ms/step\n",
            "Epoch 9/10\n",
            "147/147 - 1s - loss: 0.0010 - accuracy: 0.9999 - val_loss: 0.7893 - val_accuracy: 0.8649 - 838ms/epoch - 6ms/step\n",
            "Epoch 10/10\n",
            "147/147 - 1s - loss: 0.0054 - accuracy: 0.9989 - val_loss: 0.7332 - val_accuracy: 0.8678 - 831ms/epoch - 6ms/step\n"
          ]
        }
      ]
    },
    {
      "cell_type": "markdown",
      "source": [
        "### Plot Loss and Accuracy"
      ],
      "metadata": {
        "id": "gln_s74cQmQm"
      }
    },
    {
      "cell_type": "code",
      "source": [
        "import matplotlib.pyplot as plt\n",
        "\n",
        "f = plt.figure(figsize=(10,5))\n",
        "plt.subplot(1,2,1)\n",
        "plt.plot(history.history['accuracy'],\n",
        "         label='train accuracy',\n",
        "         c='orange', ls='-')\n",
        "plt.plot(history.history['val_accuracy'],\n",
        "         label='val accuracy',\n",
        "         c='dodgerblue', ls='-')\n",
        "plt.xlabel('Epoch')\n",
        "plt.ylabel('Accuracy')\n",
        "plt.legend(loc='lower right')\n",
        "\n",
        "plt.subplot(1,2,2)\n",
        "plt.plot(history.history['loss'],\n",
        "         label='train loss',\n",
        "         c='orange', ls='--')\n",
        "plt.plot(history.history['val_loss'],\n",
        "         label='val loss',\n",
        "         c='dodgerblue', ls='--')\n",
        "plt.xlabel('Epoch')\n",
        "plt.ylabel('Loss')\n",
        "plt.legend(loc='lower right')\n",
        "plt.show()"
      ],
      "metadata": {
        "colab": {
          "base_uri": "https://localhost:8080/",
          "height": 465
        },
        "id": "lracfSE-BoUn",
        "outputId": "485a2534-1652-4a6e-afe1-24724f007a5e"
      },
      "execution_count": null,
      "outputs": [
        {
          "output_type": "display_data",
          "data": {
            "text/plain": [
              "<Figure size 1000x500 with 2 Axes>"
            ],
            "image/png": "[encoded data removed]"
          },
          "metadata": {}
        }
      ]
    },
    {
      "cell_type": "markdown",
      "source": [
        "### Predict $X_{test}$"
      ],
      "metadata": {
        "id": "pz5pddl2Qvet"
      }
    },
    {
      "cell_type": "code",
      "source": [
        "y_pred = model.predict(X_test)\n",
        "print(y_pred.shape)"
      ],
      "metadata": {
        "colab": {
          "base_uri": "https://localhost:8080/"
        },
        "id": "1ILq0KtAFSuF",
        "outputId": "918a2eb6-57cd-40b9-d39c-44f9b515329f"
      },
      "execution_count": null,
      "outputs": [
        {
          "output_type": "stream",
          "name": "stdout",
          "text": [
            "32/32 [==============================] - 2s 55ms/step\n",
            "(1000, 6)\n"
          ]
        }
      ]
    },
    {
      "cell_type": "code",
      "source": [
        "y_pred = np.argmax(y_pred, axis=1)\n",
        "print(y_pred.shape)"
      ],
      "metadata": {
        "colab": {
          "base_uri": "https://localhost:8080/"
        },
        "id": "oacD0cnRFj1O",
        "outputId": "51c2f098-fe53-4f2d-8a67-c02ca1be9466"
      },
      "execution_count": null,
      "outputs": [
        {
          "output_type": "stream",
          "name": "stdout",
          "text": [
            "(1000,)\n"
          ]
        }
      ]
    },
    {
      "cell_type": "code",
      "source": [
        "sol = pd.DataFrame({'prediction': y_pred})\n",
        "sol.head(10)"
      ],
      "metadata": {
        "colab": {
          "base_uri": "https://localhost:8080/",
          "height": 363
        },
        "id": "KVl5i93nF4Zu",
        "outputId": "18e2319c-54fa-4baa-dc2b-f8d4ef738c1d"
      },
      "execution_count": null,
      "outputs": [
        {
          "output_type": "execute_result",
          "data": {
            "text/plain": [
              "   prediction\n",
              "0           2\n",
              "1           2\n",
              "2           2\n",
              "3           1\n",
              "4           5\n",
              "5           4\n",
              "6           3\n",
              "7           4\n",
              "8           4\n",
              "9           3"
            ],
            "text/html": [
              "\n",
              "  <div id=\"df-f741b898-0239-4991-bf34-e793780d7cac\" class=\"colab-df-container\">\n",
              "    <div>\n",
              "<style scoped>\n",
              "    .dataframe tbody tr th:only-of-type {\n",
              "        vertical-align: middle;\n",
              "    }\n",
              "\n",
              "    .dataframe tbody tr th {\n",
              "        vertical-align: top;\n",
              "    }\n",
              "\n",
              "    .dataframe thead th {\n",
              "        text-align: right;\n",
              "    }\n",
              "</style>\n",
              "<table border=\"1\" class=\"dataframe\">\n",
              "  <thead>\n",
              "    <tr style=\"text-align: right;\">\n",
              "      <th></th>\n",
              "      <th>prediction</th>\n",
              "    </tr>\n",
              "  </thead>\n",
              "  <tbody>\n",
              "    <tr>\n",
              "      <th>0</th>\n",
              "      <td>2</td>\n",
              "    </tr>\n",
              "    <tr>\n",
              "      <th>1</th>\n",
              "      <td>2</td>\n",
              "    </tr>\n",
              "    <tr>\n",
              "      <th>2</th>\n",
              "      <td>2</td>\n",
              "    </tr>\n",
              "    <tr>\n",
              "      <th>3</th>\n",
              "      <td>1</td>\n",
              "    </tr>\n",
              "    <tr>\n",
              "      <th>4</th>\n",
              "      <td>5</td>\n",
              "    </tr>\n",
              "    <tr>\n",
              "      <th>5</th>\n",
              "      <td>4</td>\n",
              "    </tr>\n",
              "    <tr>\n",
              "      <th>6</th>\n",
              "      <td>3</td>\n",
              "    </tr>\n",
              "    <tr>\n",
              "      <th>7</th>\n",
              "      <td>4</td>\n",
              "    </tr>\n",
              "    <tr>\n",
              "      <th>8</th>\n",
              "      <td>4</td>\n",
              "    </tr>\n",
              "    <tr>\n",
              "      <th>9</th>\n",
              "      <td>3</td>\n",
              "    </tr>\n",
              "  </tbody>\n",
              "</table>\n",
              "</div>\n",
              "    <div class=\"colab-df-buttons\">\n",
              "\n",
              "  <div class=\"colab-df-container\">\n",
              "    <button class=\"colab-df-convert\" onclick=\"convertToInteractive('df-f741b898-0239-4991-bf34-e793780d7cac')\"\n",
              "            title=\"Convert this dataframe to an interactive table.\"\n",
              "            style=\"display:none;\">\n",
              "\n",
              "  <svg xmlns=\"http://www.w3.org/2000/svg\" height=\"24px\" viewBox=\"0 -960 960 960\">\n",
              "    <path d=\"M120-120v-720h720v720H120Zm60-500h600v-160H180v160Zm220 220h160v-160H400v160Zm0 220h160v-160H400v160ZM180-400h160v-160H180v160Zm440 0h160v-160H620v160ZM180-180h160v-160H180v160Zm440 0h160v-160H620v160Z\"/>\n",
              "  </svg>\n",
              "    </button>\n",
              "\n",
              "  <style>\n",
              "    .colab-df-container {\n",
              "      display:flex;\n",
              "      gap: 12px;\n",
              "    }\n",
              "\n",
              "    .colab-df-convert {\n",
              "      background-color: #E8F0FE;\n",
              "      border: none;\n",
              "      border-radius: 50%;\n",
              "      cursor: pointer;\n",
              "      display: none;\n",
              "      fill: #1967D2;\n",
              "      height: 32px;\n",
              "      padding: 0 0 0 0;\n",
              "      width: 32px;\n",
              "    }\n",
              "\n",
              "    .colab-df-convert:hover {\n",
              "      background-color: #E2EBFA;\n",
              "      box-shadow: 0px 1px 2px rgba(60, 64, 67, 0.3), 0px 1px 3px 1px rgba(60, 64, 67, 0.15);\n",
              "      fill: #174EA6;\n",
              "    }\n",
              "\n",
              "    .colab-df-buttons div {\n",
              "      margin-bottom: 4px;\n",
              "    }\n",
              "\n",
              "    [theme=dark] .colab-df-convert {\n",
              "      background-color: #3B4455;\n",
              "      fill: #D2E3FC;\n",
              "    }\n",
              "\n",
              "    [theme=dark] .colab-df-convert:hover {\n",
              "      background-color: #434B5C;\n",
              "      box-shadow: 0px 1px 3px 1px rgba(0, 0, 0, 0.15);\n",
              "      filter: drop-shadow(0px 1px 2px rgba(0, 0, 0, 0.3));\n",
              "      fill: #FFFFFF;\n",
              "    }\n",
              "  </style>\n",
              "\n",
              "    <script>\n",
              "      const buttonEl =\n",
              "        document.querySelector('#df-f741b898-0239-4991-bf34-e793780d7cac button.colab-df-convert');\n",
              "      buttonEl.style.display =\n",
              "        google.colab.kernel.accessAllowed ? 'block' : 'none';\n",
              "\n",
              "      async function convertToInteractive(key) {\n",
              "        const element = document.querySelector('#df-f741b898-0239-4991-bf34-e793780d7cac');\n",
              "        const dataTable =\n",
              "          await google.colab.kernel.invokeFunction('convertToInteractive',\n",
              "                                                    [key], {});\n",
              "        if (!dataTable) return;\n",
              "\n",
              "        const docLinkHtml = 'Like what you see? Visit the ' +\n",
              "          '<a target=\"_blank\" href=https://colab.research.google.com/notebooks/data_table.ipynb>data table notebook</a>'\n",
              "          + ' to learn more about interactive tables.';\n",
              "        element.innerHTML = '';\n",
              "        dataTable['output_type'] = 'display_data';\n",
              "        await google.colab.output.renderOutput(dataTable, element);\n",
              "        const docLink = document.createElement('div');\n",
              "        docLink.innerHTML = docLinkHtml;\n",
              "        element.appendChild(docLink);\n",
              "      }\n",
              "    </script>\n",
              "  </div>\n",
              "\n",
              "\n",
              "<div id=\"df-19d84582-447c-4967-887d-8ec105e090af\">\n",
              "  <button class=\"colab-df-quickchart\" onclick=\"quickchart('df-19d84582-447c-4967-887d-8ec105e090af')\"\n",
              "            title=\"Suggest charts\"\n",
              "            style=\"display:none;\">\n",
              "\n",
              "<svg xmlns=\"http://www.w3.org/2000/svg\" height=\"24px\"viewBox=\"0 0 24 24\"\n",
              "     width=\"24px\">\n",
              "    <g>\n",
              "        <path d=\"M19 3H5c-1.1 0-2 .9-2 2v14c0 1.1.9 2 2 2h14c1.1 0 2-.9 2-2V5c0-1.1-.9-2-2-2zM9 17H7v-7h2v7zm4 0h-2V7h2v10zm4 0h-2v-4h2v4z\"/>\n",
              "    </g>\n",
              "</svg>\n",
              "  </button>\n",
              "\n",
              "<style>\n",
              "  .colab-df-quickchart {\n",
              "      --bg-color: #E8F0FE;\n",
              "      --fill-color: #1967D2;\n",
              "      --hover-bg-color: #E2EBFA;\n",
              "      --hover-fill-color: #174EA6;\n",
              "      --disabled-fill-color: #AAA;\n",
              "      --disabled-bg-color: #DDD;\n",
              "  }\n",
              "\n",
              "  [theme=dark] .colab-df-quickchart {\n",
              "      --bg-color: #3B4455;\n",
              "      --fill-color: #D2E3FC;\n",
              "      --hover-bg-color: #434B5C;\n",
              "      --hover-fill-color: #FFFFFF;\n",
              "      --disabled-bg-color: #3B4455;\n",
              "      --disabled-fill-color: #666;\n",
              "  }\n",
              "\n",
              "  .colab-df-quickchart {\n",
              "    background-color: var(--bg-color);\n",
              "    border: none;\n",
              "    border-radius: 50%;\n",
              "    cursor: pointer;\n",
              "    display: none;\n",
              "    fill: var(--fill-color);\n",
              "    height: 32px;\n",
              "    padding: 0;\n",
              "    width: 32px;\n",
              "  }\n",
              "\n",
              "  .colab-df-quickchart:hover {\n",
              "    background-color: var(--hover-bg-color);\n",
              "    box-shadow: 0 1px 2px rgba(60, 64, 67, 0.3), 0 1px 3px 1px rgba(60, 64, 67, 0.15);\n",
              "    fill: var(--button-hover-fill-color);\n",
              "  }\n",
              "\n",
              "  .colab-df-quickchart-complete:disabled,\n",
              "  .colab-df-quickchart-complete:disabled:hover {\n",
              "    background-color: var(--disabled-bg-color);\n",
              "    fill: var(--disabled-fill-color);\n",
              "    box-shadow: none;\n",
              "  }\n",
              "\n",
              "  .colab-df-spinner {\n",
              "    border: 2px solid var(--fill-color);\n",
              "    border-color: transparent;\n",
              "    border-bottom-color: var(--fill-color);\n",
              "    animation:\n",
              "      spin 1s steps(1) infinite;\n",
              "  }\n",
              "\n",
              "  @keyframes spin {\n",
              "    0% {\n",
              "      border-color: transparent;\n",
              "      border-bottom-color: var(--fill-color);\n",
              "      border-left-color: var(--fill-color);\n",
              "    }\n",
              "    20% {\n",
              "      border-color: transparent;\n",
              "      border-left-color: var(--fill-color);\n",
              "      border-top-color: var(--fill-color);\n",
              "    }\n",
              "    30% {\n",
              "      border-color: transparent;\n",
              "      border-left-color: var(--fill-color);\n",
              "      border-top-color: var(--fill-color);\n",
              "      border-right-color: var(--fill-color);\n",
              "    }\n",
              "    40% {\n",
              "      border-color: transparent;\n",
              "      border-right-color: var(--fill-color);\n",
              "      border-top-color: var(--fill-color);\n",
              "    }\n",
              "    60% {\n",
              "      border-color: transparent;\n",
              "      border-right-color: var(--fill-color);\n",
              "    }\n",
              "    80% {\n",
              "      border-color: transparent;\n",
              "      border-right-color: var(--fill-color);\n",
              "      border-bottom-color: var(--fill-color);\n",
              "    }\n",
              "    90% {\n",
              "      border-color: transparent;\n",
              "      border-bottom-color: var(--fill-color);\n",
              "    }\n",
              "  }\n",
              "</style>\n",
              "\n",
              "  <script>\n",
              "    async function quickchart(key) {\n",
              "      const quickchartButtonEl =\n",
              "        document.querySelector('#' + key + ' button');\n",
              "      quickchartButtonEl.disabled = true;  // To prevent multiple clicks.\n",
              "      quickchartButtonEl.classList.add('colab-df-spinner');\n",
              "      try {\n",
              "        const charts = await google.colab.kernel.invokeFunction(\n",
              "            'suggestCharts', [key], {});\n",
              "      } catch (error) {\n",
              "        console.error('Error during call to suggestCharts:', error);\n",
              "      }\n",
              "      quickchartButtonEl.classList.remove('colab-df-spinner');\n",
              "      quickchartButtonEl.classList.add('colab-df-quickchart-complete');\n",
              "    }\n",
              "    (() => {\n",
              "      let quickchartButtonEl =\n",
              "        document.querySelector('#df-19d84582-447c-4967-887d-8ec105e090af button');\n",
              "      quickchartButtonEl.style.display =\n",
              "        google.colab.kernel.accessAllowed ? 'block' : 'none';\n",
              "    })();\n",
              "  </script>\n",
              "</div>\n",
              "    </div>\n",
              "  </div>\n"
            ]
          },
          "metadata": {},
          "execution_count": 44
        }
      ]
    },
    {
      "cell_type": "code",
      "source": [
        "sol.to_csv('sol.csv', index=False)"
      ],
      "metadata": {
        "id": "44RthNOvGMWV"
      },
      "execution_count": null,
      "outputs": []
    },
    {
      "cell_type": "code",
      "source": [],
      "metadata": {
        "id": "bA_0ILx4TRmV"
      },
      "execution_count": null,
      "outputs": []
    }
  ]
}